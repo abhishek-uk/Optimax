{
 "cells": [
  {
   "cell_type": "markdown",
   "id": "50db95c0",
   "metadata": {},
   "source": [
    "# Domain: Transportation"
   ]
  },
  {
   "cell_type": "markdown",
   "id": "3973d7c5",
   "metadata": {},
   "source": [
    "## Topic: Autonomous vehicles"
   ]
  },
  {
   "cell_type": "markdown",
   "id": "d7ab8700",
   "metadata": {},
   "source": [
    "### Team: Optimax"
   ]
  },
  {
   "cell_type": "markdown",
   "id": "179214b1",
   "metadata": {},
   "source": [
    "We are testing algorithms for Autonomous vehicles. <br>\n",
    "Using carla simulator to testing in virtural enviroment.<br>\n",
    "The CARLA simulator consists of a scalable client-server architecture."
   ]
  },
  {
   "cell_type": "code",
   "execution_count": 5,
   "id": "f622e66b",
   "metadata": {},
   "outputs": [
    {
     "name": "stdout",
     "output_type": "stream",
     "text": [
      "Hello world\n"
     ]
    }
   ],
   "source": [
    "print(\"Hello world\")"
   ]
  },
  {
   "cell_type": "markdown",
   "id": "84a359fc",
   "metadata": {},
   "source": [
    "First need to install carla "
   ]
  },
  {
   "cell_type": "code",
   "execution_count": null,
   "id": "ba6da3e2",
   "metadata": {},
   "outputs": [],
   "source": [
    "# !pip install carla"
   ]
  },
  {
   "cell_type": "code",
   "execution_count": 6,
   "id": "a3e3dea4",
   "metadata": {},
   "outputs": [],
   "source": [
    "import carla\n",
    "import math\n",
    "import random\n",
    "import time\n",
    "import numpy as np\n",
    "# import tensorflow as tf\n",
    "import cv2"
   ]
  },
  {
   "cell_type": "markdown",
   "id": "c1793b0d",
   "metadata": {},
   "source": [
    "Lets create a client and connect to carla local server"
   ]
  },
  {
   "cell_type": "code",
   "execution_count": 20,
   "id": "89e87e95",
   "metadata": {},
   "outputs": [
    {
     "name": "stdout",
     "output_type": "stream",
     "text": [
      "connected with Server\n"
     ]
    }
   ],
   "source": [
    "try:\n",
    "    client = carla.Client('localhost', 2000)\n",
    "    client.set_timeout(5.0)\n",
    "    world = client.get_world()\n",
    "    print(\"connected with Server\")\n",
    "except Exception as e:\n",
    "    print(\"An exception occurred:\")\n",
    "    print(e)"
   ]
  },
  {
   "cell_type": "code",
   "execution_count": null,
   "id": "f5cc339b",
   "metadata": {},
   "outputs": [],
   "source": [
    "print(client.get_available_maps())"
   ]
  },
  {
   "cell_type": "code",
   "execution_count": null,
   "id": "744a95db",
   "metadata": {},
   "outputs": [],
   "source": [
    "# world = client.load_world('Town04')"
   ]
  },
  {
   "cell_type": "markdown",
   "id": "ecd73585",
   "metadata": {},
   "source": [
    "For Synchronous mode run bellow one cell"
   ]
  },
  {
   "cell_type": "code",
   "execution_count": null,
   "id": "27e708a1",
   "metadata": {},
   "outputs": [],
   "source": [
    "# settings = world.get_settings()\n",
    "# settings.synchronous_mode = True\n",
    "# # settings.fixed_delta_seconds = 0.05\n",
    "# world.apply_settings(settings)"
   ]
  },
  {
   "cell_type": "markdown",
   "id": "1dfcad2d",
   "metadata": {},
   "source": [
    "For Asynchronous mode run bellow one cell"
   ]
  },
  {
   "cell_type": "code",
   "execution_count": null,
   "id": "37ceb7b7",
   "metadata": {},
   "outputs": [],
   "source": [
    "# settings.synchronous_mode = False\n",
    "# world.apply_settings(settings)"
   ]
  },
  {
   "cell_type": "markdown",
   "id": "01e1bbd4",
   "metadata": {},
   "source": [
    " "
   ]
  },
  {
   "cell_type": "code",
   "execution_count": 8,
   "id": "05dee84a",
   "metadata": {},
   "outputs": [],
   "source": [
    "blueprint_library = world.get_blueprint_library()\n",
    "spawn_points = world.get_map().get_spawn_points()"
   ]
  },
  {
   "cell_type": "markdown",
   "id": "b63663b8",
   "metadata": {},
   "source": [
    "Lets create some vehicles for the city and make it as someone is driving it "
   ]
  },
  {
   "cell_type": "code",
   "execution_count": 9,
   "id": "f35ff7aa",
   "metadata": {},
   "outputs": [],
   "source": [
    "npc_list = []\n",
    "car_obj_list = [] "
   ]
  },
  {
   "cell_type": "markdown",
   "id": "8574ec68",
   "metadata": {},
   "source": [
    "# NPC for City"
   ]
  },
  {
   "cell_type": "code",
   "execution_count": 10,
   "id": "2ed6be46",
   "metadata": {},
   "outputs": [
    {
     "name": "stdout",
     "output_type": "stream",
     "text": [
      "one vehicle not spawn!\n",
      "one vehicle not spawn!\n",
      "one vehicle not spawn!\n",
      "one vehicle not spawn!\n",
      "one vehicle not spawn!\n",
      "one vehicle not spawn!\n",
      "one vehicle not spawn!\n"
     ]
    }
   ],
   "source": [
    "for i in range(50):\n",
    "    vehicle_bp = random.choice(blueprint_library.filter('vehicle'))\n",
    "    try:\n",
    "        npc = world.spawn_actor(vehicle_bp, random.choice(spawn_points))\n",
    "        npc_list.append(npc)\n",
    "    except:\n",
    "        print(\"one vehicle not spawn!\")"
   ]
  },
  {
   "cell_type": "code",
   "execution_count": 12,
   "id": "b94ba651",
   "metadata": {},
   "outputs": [],
   "source": [
    "for v in world.get_actors().filter('*vehicle*'):\n",
    "    v.set_autopilot(True)"
   ]
  },
  {
   "cell_type": "code",
   "execution_count": 13,
   "id": "1ceb3788",
   "metadata": {},
   "outputs": [],
   "source": [
    "# for npc in npc_list:\n",
    "#     print(npc)"
   ]
  },
  {
   "cell_type": "markdown",
   "id": "72425b60",
   "metadata": {},
   "source": [
    "# Lets start our model"
   ]
  },
  {
   "cell_type": "markdown",
   "id": "8f2e0f0c",
   "metadata": {},
   "source": [
    "Create a vehicle and locate its location"
   ]
  },
  {
   "cell_type": "code",
   "execution_count": 18,
   "id": "1de38727",
   "metadata": {},
   "outputs": [
    {
     "name": "stdout",
     "output_type": "stream",
     "text": [
      "selected\n"
     ]
    }
   ],
   "source": [
    "for a in range(50):\n",
    "    try:\n",
    "        car = world.spawn_actor(\n",
    "            blueprint_library.find(\n",
    "                random.choice([\n",
    "                    'vehicle.dogde.charger_2020',\n",
    "                    'vehicle.ford.mustang',\n",
    "                    'vehicle.mercedes.coupe_2020',\n",
    "                    'vehicle.tesla.model3'\n",
    "                ])\n",
    "            ),\n",
    "            random.choice(spawn_points)\n",
    "        )\n",
    "        car_obj_list.append(car)\n",
    "        print(\"selected\")\n",
    "        break\n",
    "    except:\n",
    "        print(\"Next vehicle\")"
   ]
  },
  {
   "cell_type": "code",
   "execution_count": 19,
   "id": "33507747",
   "metadata": {},
   "outputs": [],
   "source": [
    "# while True:\n",
    "spectator = world.get_spectator()\n",
    "transform = carla.Transform(car.get_transform().transform(carla.Location(x=-5, z=2.5)), car.get_transform().rotation)\n",
    "spectator.set_transform(transform)"
   ]
  },
  {
   "cell_type": "code",
   "execution_count": 21,
   "id": "09d10d0c",
   "metadata": {},
   "outputs": [
    {
     "name": "stdout",
     "output_type": "stream",
     "text": [
      "Actor(id=67, type=vehicle.mercedes.coupe_2020)\n",
      "Actor(id=68, type=vehicle.tesla.model3)\n"
     ]
    }
   ],
   "source": [
    "for i in car_obj_list:\n",
    "    print(i)"
   ]
  },
  {
   "cell_type": "code",
   "execution_count": null,
   "id": "a7ccb425",
   "metadata": {},
   "outputs": [],
   "source": [
    "# Run above"
   ]
  },
  {
   "cell_type": "code",
   "execution_count": 17,
   "id": "b000ed4f",
   "metadata": {},
   "outputs": [],
   "source": [
    "car.set_autopilot(True)"
   ]
  },
  {
   "cell_type": "code",
   "execution_count": null,
   "id": "f1d7fd37",
   "metadata": {},
   "outputs": [],
   "source": [
    "# Turn on position lights    # Position --> ON    # NONE --> OFF\n",
    "car.set_light_state(carla.VehicleLightState.Position)"
   ]
  },
  {
   "cell_type": "markdown",
   "id": "6e7d135f",
   "metadata": {},
   "source": [
    "## Control of sensors "
   ]
  },
  {
   "cell_type": "code",
   "execution_count": null,
   "id": "2f937b10",
   "metadata": {},
   "outputs": [],
   "source": []
  },
  {
   "cell_type": "code",
   "execution_count": null,
   "id": "fc585224",
   "metadata": {},
   "outputs": [],
   "source": [
    "IMG_WIDTH = 640\n",
    "IMG_HEIGHT = 480"
   ]
  },
  {
   "cell_type": "code",
   "execution_count": null,
   "id": "34712ae4",
   "metadata": {},
   "outputs": [],
   "source": [
    "camera_bp = blueprint_library.find('sensor.camera.rgb')\n",
    "camera_bp.set_attribute('image_size_x', str(IMG_WIDTH))\n",
    "camera_bp.set_attribute('image_size_y', str(IMG_HEIGHT))\n",
    "camera_bp.set_attribute(\"fov\", \"110\")\n",
    "\n",
    "camera_init_trans = carla.Transform(carla.Location(x = 2.5, z=2.0))\n",
    "camera = world.spawn_actor(camera_bp, camera_init_trans, attach_to = car)\n",
    "car_obj_list.append(camera)"
   ]
  },
  {
   "cell_type": "code",
   "execution_count": null,
   "id": "51f63e4f",
   "metadata": {},
   "outputs": [],
   "source": [
    "def process_img(image):\n",
    "    i = np.array(image.raw_data)\n",
    "    i2 = i.reshape((IMG_HEIGHT, IMG_WIDTH, 4))\n",
    "    i3 = i2[:, :, :3]\n",
    "    cv2.imshow(\"\", i3)\n",
    "    cv2.waitKey(1)\n",
    "    return i3/255.0\n",
    "\n",
    "\n",
    "try:\n",
    "    camera.listen(lambda data: process_img(data))\n",
    "    time.sleep(10)\n",
    "    camera.destroy()\n",
    "except Exception as e:\n",
    "    print(e)"
   ]
  },
  {
   "cell_type": "code",
   "execution_count": null,
   "id": "3b554d85",
   "metadata": {},
   "outputs": [],
   "source": []
  },
  {
   "cell_type": "code",
   "execution_count": null,
   "id": "14a008f5",
   "metadata": {},
   "outputs": [],
   "source": []
  },
  {
   "cell_type": "code",
   "execution_count": null,
   "id": "0de8386b",
   "metadata": {},
   "outputs": [],
   "source": []
  },
  {
   "cell_type": "code",
   "execution_count": null,
   "id": "de80fbfc",
   "metadata": {},
   "outputs": [],
   "source": []
  },
  {
   "cell_type": "code",
   "execution_count": null,
   "id": "e2a9fadc",
   "metadata": {},
   "outputs": [],
   "source": []
  },
  {
   "cell_type": "code",
   "execution_count": null,
   "id": "11b6611c",
   "metadata": {},
   "outputs": [],
   "source": [
    "car.set_simulate_physics(True)"
   ]
  },
  {
   "cell_type": "code",
   "execution_count": null,
   "id": "46a31cbc",
   "metadata": {},
   "outputs": [],
   "source": []
  },
  {
   "cell_type": "code",
   "execution_count": null,
   "id": "e2b1e57e",
   "metadata": {},
   "outputs": [],
   "source": []
  },
  {
   "cell_type": "code",
   "execution_count": null,
   "id": "ee313487",
   "metadata": {},
   "outputs": [],
   "source": []
  },
  {
   "cell_type": "code",
   "execution_count": null,
   "id": "82cbcd03",
   "metadata": {},
   "outputs": [],
   "source": []
  },
  {
   "cell_type": "code",
   "execution_count": null,
   "id": "533185d1",
   "metadata": {},
   "outputs": [],
   "source": []
  },
  {
   "cell_type": "code",
   "execution_count": null,
   "id": "6fd62651",
   "metadata": {},
   "outputs": [],
   "source": []
  },
  {
   "cell_type": "code",
   "execution_count": null,
   "id": "9c1c84fa",
   "metadata": {},
   "outputs": [],
   "source": []
  },
  {
   "cell_type": "code",
   "execution_count": null,
   "id": "97e0059f",
   "metadata": {},
   "outputs": [],
   "source": []
  },
  {
   "cell_type": "code",
   "execution_count": null,
   "id": "1e19a995",
   "metadata": {},
   "outputs": [],
   "source": []
  },
  {
   "cell_type": "code",
   "execution_count": null,
   "id": "1b3d3575",
   "metadata": {},
   "outputs": [],
   "source": []
  },
  {
   "cell_type": "code",
   "execution_count": null,
   "id": "96931747",
   "metadata": {},
   "outputs": [],
   "source": []
  },
  {
   "cell_type": "code",
   "execution_count": null,
   "id": "33de6f23",
   "metadata": {},
   "outputs": [],
   "source": []
  },
  {
   "cell_type": "code",
   "execution_count": null,
   "id": "8a333f32",
   "metadata": {},
   "outputs": [],
   "source": []
  },
  {
   "cell_type": "code",
   "execution_count": null,
   "id": "b80cf37a",
   "metadata": {},
   "outputs": [],
   "source": []
  },
  {
   "cell_type": "code",
   "execution_count": null,
   "id": "7611e67e",
   "metadata": {},
   "outputs": [],
   "source": []
  },
  {
   "cell_type": "code",
   "execution_count": null,
   "id": "60ce82df",
   "metadata": {
    "scrolled": true
   },
   "outputs": [],
   "source": [
    "try:\n",
    "    for obj in car_obj_list:\n",
    "        obj.destroy()\n",
    "    print(\"All Objects of Model are cleaned\")\n",
    "except Exception as e:\n",
    "    print(e)"
   ]
  },
  {
   "cell_type": "code",
   "execution_count": null,
   "id": "23440b29",
   "metadata": {},
   "outputs": [],
   "source": [
    "try:\n",
    "    for npc in npc_list:\n",
    "        npc.destroy()\n",
    "    print(\"All NPC cleaned\")\n",
    "except Exception as e: \n",
    "    print(e)"
   ]
  }
 ],
 "metadata": {
  "kernelspec": {
   "display_name": "Python 3 (ipykernel)",
   "language": "python",
   "name": "python3"
  },
  "language_info": {
   "codemirror_mode": {
    "name": "ipython",
    "version": 3
   },
   "file_extension": ".py",
   "mimetype": "text/x-python",
   "name": "python",
   "nbconvert_exporter": "python",
   "pygments_lexer": "ipython3",
   "version": "3.7.0"
  }
 },
 "nbformat": 4,
 "nbformat_minor": 5
}
