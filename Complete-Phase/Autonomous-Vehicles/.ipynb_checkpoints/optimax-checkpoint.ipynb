{
 "cells": [
  {
   "cell_type": "markdown",
   "id": "50db95c0",
   "metadata": {},
   "source": [
    "# Domain: Transportation"
   ]
  },
  {
   "cell_type": "markdown",
   "id": "3973d7c5",
   "metadata": {},
   "source": [
    "## Topic: Autonomous vehicles"
   ]
  },
  {
   "cell_type": "markdown",
   "id": "d7ab8700",
   "metadata": {},
   "source": [
    "### Team: Optimax"
   ]
  },
  {
   "cell_type": "markdown",
   "id": "179214b1",
   "metadata": {},
   "source": [
    "We are testing algorithms for Autonomous vehicles. <br>\n",
    "Using carla simulator to testing in virtural enviroment.<br>\n",
    "The CARLA simulator consists of a scalable client-server architecture."
   ]
  },
  {
   "cell_type": "code",
   "execution_count": null,
   "id": "f622e66b",
   "metadata": {},
   "outputs": [],
   "source": [
    "print(\"Hello world\")"
   ]
  },
  {
   "cell_type": "markdown",
   "id": "84a359fc",
   "metadata": {},
   "source": [
    "First need to install carla "
   ]
  },
  {
   "cell_type": "code",
   "execution_count": null,
   "id": "ba6da3e2",
   "metadata": {},
   "outputs": [],
   "source": [
    "# !pip install carla"
   ]
  },
  {
   "cell_type": "code",
   "execution_count": 1,
   "id": "a3e3dea4",
   "metadata": {},
   "outputs": [],
   "source": [
    "import carla\n",
    "import math\n",
    "import random\n",
    "import time\n",
    "import numpy as np\n",
    "# import tensorflow as tf\n",
    "import cv2"
   ]
  },
  {
   "cell_type": "markdown",
   "id": "c1793b0d",
   "metadata": {},
   "source": [
    "Lets create a client and connect to carla local server"
   ]
  },
  {
   "cell_type": "code",
   "execution_count": 2,
   "id": "89e87e95",
   "metadata": {},
   "outputs": [
    {
     "name": "stdout",
     "output_type": "stream",
     "text": [
      "connected with Server\n"
     ]
    }
   ],
   "source": [
    "try:\n",
    "    client = carla.Client('localhost', 2000)\n",
    "    client.set_timeout(5.0)\n",
    "    world = client.get_world()\n",
    "    print(\"connected with Server\")\n",
    "except Exception as e:\n",
    "    print(\"An exception occurred:\")\n",
    "    print(e)"
   ]
  },
  {
   "cell_type": "code",
   "execution_count": 3,
   "id": "05dee84a",
   "metadata": {},
   "outputs": [],
   "source": [
    "blueprint_library = world.get_blueprint_library()\n",
    "spawn_points = world.get_map().get_spawn_points()"
   ]
  },
  {
   "cell_type": "markdown",
   "id": "b63663b8",
   "metadata": {},
   "source": [
    "Lets create some vehicles for the city and make it as someone is driving it "
   ]
  },
  {
   "cell_type": "markdown",
   "id": "8574ec68",
   "metadata": {},
   "source": [
    "# NPC for City"
   ]
  },
  {
   "cell_type": "code",
   "execution_count": 4,
   "id": "b7524abd",
   "metadata": {},
   "outputs": [],
   "source": [
    "npc_list = []\n",
    "actor_list = [] "
   ]
  },
  {
   "cell_type": "code",
   "execution_count": 5,
   "id": "2ed6be46",
   "metadata": {},
   "outputs": [
    {
     "name": "stdout",
     "output_type": "stream",
     "text": [
      "one vehicle not spawn!\n",
      "one vehicle not spawn!\n"
     ]
    }
   ],
   "source": [
    "for i in range(10):\n",
    "    vehicle_bp = random.choice(blueprint_library.filter('vehicle'))\n",
    "    try:\n",
    "        npc = world.spawn_actor(vehicle_bp, random.choice(spawn_points))\n",
    "        npc_list.append(npc)\n",
    "    except:\n",
    "        print(\"one vehicle not spawn!\")"
   ]
  },
  {
   "cell_type": "code",
   "execution_count": 6,
   "id": "b94ba651",
   "metadata": {},
   "outputs": [
    {
     "name": "stdout",
     "output_type": "stream",
     "text": [
      "27\n"
     ]
    }
   ],
   "source": [
    "for v in world.get_actors().filter('*vehicle*'):\n",
    "    v.set_autopilot(True)"
   ]
  },
  {
   "cell_type": "markdown",
   "id": "72425b60",
   "metadata": {},
   "source": [
    "# Lets start our model"
   ]
  },
  {
   "cell_type": "markdown",
   "id": "8f2e0f0c",
   "metadata": {},
   "source": [
    "Create a vehicle and locate its location"
   ]
  },
  {
   "cell_type": "code",
   "execution_count": 7,
   "id": "1de38727",
   "metadata": {},
   "outputs": [
    {
     "name": "stdout",
     "output_type": "stream",
     "text": [
      "selected\n"
     ]
    }
   ],
   "source": [
    "for a in range(50):\n",
    "    try:\n",
    "        vehicle = world.spawn_actor(\n",
    "            blueprint_library.find(\n",
    "                random.choice([\n",
    "                    'vehicle.dogde.charger_2020',\n",
    "                    'vehicle.ford.mustang',\n",
    "                    'vehicle.mercedes.coupe_2020',\n",
    "                    'vehicle.tesla.model3'\n",
    "                ])\n",
    "            ),\n",
    "            random.choice(spawn_points)\n",
    "        )\n",
    "        actor_list.append(vehicle)\n",
    "        print(\"selected\")\n",
    "        break\n",
    "    except:\n",
    "        print(\"Next vehicle\")"
   ]
  },
  {
   "cell_type": "code",
   "execution_count": 8,
   "id": "33507747",
   "metadata": {},
   "outputs": [],
   "source": [
    "spectator = world.get_spectator()\n",
    "transform = carla.Transform(vehicle.get_transform().transform(carla.Location(x=-4, z=2.5)), vehicle.get_transform().rotation)\n",
    "spectator.set_transform(transform)"
   ]
  },
  {
   "cell_type": "code",
   "execution_count": null,
   "id": "5bc11025",
   "metadata": {},
   "outputs": [],
   "source": []
  },
  {
   "cell_type": "code",
   "execution_count": 9,
   "id": "09d10d0c",
   "metadata": {},
   "outputs": [
    {
     "name": "stdout",
     "output_type": "stream",
     "text": [
      "Actor(id=612, type=vehicle.ford.mustang)\n"
     ]
    }
   ],
   "source": [
    "for i in actor_list:\n",
    "    print(i)"
   ]
  },
  {
   "cell_type": "code",
   "execution_count": null,
   "id": "5ffbf517",
   "metadata": {},
   "outputs": [],
   "source": [
    "# Run above"
   ]
  },
  {
   "cell_type": "code",
   "execution_count": 10,
   "id": "3a6afc93",
   "metadata": {},
   "outputs": [],
   "source": [
    "vehicle.set_autopilot(True)"
   ]
  },
  {
   "cell_type": "markdown",
   "id": "6e7d135f",
   "metadata": {},
   "source": [
    "## Control of sensors "
   ]
  },
  {
   "cell_type": "code",
   "execution_count": null,
   "id": "2f937b10",
   "metadata": {},
   "outputs": [],
   "source": []
  },
  {
   "cell_type": "code",
   "execution_count": null,
   "id": "fc585224",
   "metadata": {},
   "outputs": [],
   "source": [
    "IMG_WIDTH = 640\n",
    "IMG_HEIGHT = 480"
   ]
  },
  {
   "cell_type": "code",
   "execution_count": null,
   "id": "34712ae4",
   "metadata": {},
   "outputs": [],
   "source": [
    "camera_bp = blueprint_library.find('sensor.camera.rgb')\n",
    "camera_bp.set_attribute('image_size_x', str(IMG_WIDTH))\n",
    "camera_bp.set_attribute('image_size_y', str(IMG_HEIGHT))\n",
    "camera_bp.set_attribute(\"fov\", \"110\")\n",
    "\n",
    "camera_init_trans = carla.Transform(carla.Location(x = 2.5, z=2.0))\n",
    "camera = world.spawn_actor(camera_bp, camera_init_trans, attach_to = vehicle)\n",
    "actor_list.append(camera)"
   ]
  },
  {
   "cell_type": "code",
   "execution_count": null,
   "id": "51f63e4f",
   "metadata": {},
   "outputs": [],
   "source": [
    "def process_img(image):\n",
    "    i = np.array(image.raw_data)\n",
    "    i2 = i.reshape((IMG_HEIGHT, IMG_WIDTH, 4))\n",
    "    i3 = i2[:, :, :3]\n",
    "    cv2.imshow(\"\", i3)\n",
    "    cv2.waitKey(1)\n",
    "    return i3/255.0\n",
    "\n",
    "\n",
    "try:\n",
    "    camera.listen(lambda data: process_img(data))\n",
    "    time.sleep(10)\n",
    "    camera.destroy()\n",
    "except Exception as e:\n",
    "    print(e)"
   ]
  },
  {
   "cell_type": "code",
   "execution_count": null,
   "id": "3b554d85",
   "metadata": {},
   "outputs": [],
   "source": []
  },
  {
   "cell_type": "code",
   "execution_count": null,
   "id": "14a008f5",
   "metadata": {},
   "outputs": [],
   "source": []
  },
  {
   "cell_type": "code",
   "execution_count": null,
   "id": "8c4b3b13",
   "metadata": {},
   "outputs": [],
   "source": []
  },
  {
   "cell_type": "code",
   "execution_count": null,
   "id": "d81ee64d",
   "metadata": {},
   "outputs": [],
   "source": []
  },
  {
   "cell_type": "code",
   "execution_count": null,
   "id": "90036e29",
   "metadata": {},
   "outputs": [],
   "source": []
  },
  {
   "cell_type": "code",
   "execution_count": null,
   "id": "9d642f77",
   "metadata": {},
   "outputs": [],
   "source": []
  },
  {
   "cell_type": "code",
   "execution_count": null,
   "id": "c9b76756",
   "metadata": {},
   "outputs": [],
   "source": []
  },
  {
   "cell_type": "code",
   "execution_count": null,
   "id": "eabc3683",
   "metadata": {},
   "outputs": [],
   "source": []
  },
  {
   "cell_type": "code",
   "execution_count": null,
   "id": "1a6d59a0",
   "metadata": {},
   "outputs": [],
   "source": []
  },
  {
   "cell_type": "code",
   "execution_count": null,
   "id": "b72e135e",
   "metadata": {},
   "outputs": [],
   "source": []
  },
  {
   "cell_type": "code",
   "execution_count": null,
   "id": "ce69bd1f",
   "metadata": {},
   "outputs": [],
   "source": []
  },
  {
   "cell_type": "code",
   "execution_count": 14,
   "id": "60ce82df",
   "metadata": {
    "scrolled": true
   },
   "outputs": [
    {
     "name": "stdout",
     "output_type": "stream",
     "text": [
      "trying to operate on a destroyed actor; an actor's function was called, but the actor is already destroyed.\n"
     ]
    }
   ],
   "source": [
    "try:\n",
    "    for actor in actor_list:\n",
    "        actor.destroy()\n",
    "#         print(actor)\n",
    "    print(\"All actors cleaned\")\n",
    "except Exception as e:\n",
    "    print(e)\n",
    "    "
   ]
  },
  {
   "cell_type": "code",
   "execution_count": 16,
   "id": "23440b29",
   "metadata": {},
   "outputs": [
    {
     "name": "stdout",
     "output_type": "stream",
     "text": [
      "trying to operate on a destroyed actor; an actor's function was called, but the actor is already destroyed.\n"
     ]
    }
   ],
   "source": [
    "\n",
    "# Cleaning up npc_list\n",
    "try:\n",
    "    for npc in npc_list:\n",
    "        npc.destroy()\n",
    "    print(\"All NPC cleaned\")\n",
    "except Exception as e: \n",
    "    print(e)"
   ]
  }
 ],
 "metadata": {
  "kernelspec": {
   "display_name": "Python 3 (ipykernel)",
   "language": "python",
   "name": "python3"
  },
  "language_info": {
   "codemirror_mode": {
    "name": "ipython",
    "version": 3
   },
   "file_extension": ".py",
   "mimetype": "text/x-python",
   "name": "python",
   "nbconvert_exporter": "python",
   "pygments_lexer": "ipython3",
   "version": "3.7.0"
  }
 },
 "nbformat": 4,
 "nbformat_minor": 5
}
