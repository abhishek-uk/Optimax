{
 "cells": [
  {
   "cell_type": "markdown",
   "id": "50db95c0",
   "metadata": {},
   "source": [
    "# Domain: Transportation"
   ]
  },
  {
   "cell_type": "markdown",
   "id": "3973d7c5",
   "metadata": {},
   "source": [
    "## Topic: Autonomous vehicles"
   ]
  },
  {
   "cell_type": "markdown",
   "id": "d7ab8700",
   "metadata": {},
   "source": [
    "### Team: Optimax"
   ]
  },
  {
   "cell_type": "markdown",
   "id": "179214b1",
   "metadata": {},
   "source": [
    "We are testing algorithms for Autonomous vehicles. <br>\n",
    "Using carla simulator to testing in virtural enviroment.<br>\n",
    "The CARLA simulator consists of a scalable client-server architecture."
   ]
  },
  {
   "cell_type": "code",
   "execution_count": 1,
   "id": "f622e66b",
   "metadata": {},
   "outputs": [
    {
     "name": "stdout",
     "output_type": "stream",
     "text": [
      "Hello world\n"
     ]
    }
   ],
   "source": [
    "print(\"Hello world\")"
   ]
  },
  {
   "cell_type": "markdown",
   "id": "84a359fc",
   "metadata": {},
   "source": [
    "First need to install carla "
   ]
  },
  {
   "cell_type": "code",
   "execution_count": null,
   "id": "ba6da3e2",
   "metadata": {},
   "outputs": [],
   "source": [
    "# !pip install carla"
   ]
  },
  {
   "cell_type": "code",
   "execution_count": 2,
   "id": "200781a5",
   "metadata": {},
   "outputs": [
    {
     "name": "stdout",
     "output_type": "stream",
     "text": [
      "2.9.1\n"
     ]
    }
   ],
   "source": [
    "import tensorflow as tf\n",
    "print(tf.__version__)"
   ]
  },
  {
   "cell_type": "code",
   "execution_count": 11,
   "id": "a3e3dea4",
   "metadata": {},
   "outputs": [],
   "source": [
    "import carla\n",
    "import math\n",
    "import random\n",
    "import time\n",
    "import numpy as np\n",
    "# import tensorflow as tf\n",
    "import cv2\n",
    "from collections import deque\n",
    "from keras.applications.xception import Xception\n",
    "from keras.layers import Dense, GlobalAveragePooling2D\n",
    "from keras.optimizers import Adam\n",
    "from keras.models import Model"
   ]
  },
  {
   "cell_type": "markdown",
   "id": "c1793b0d",
   "metadata": {},
   "source": [
    "Lets create a client and connect to carla local server"
   ]
  },
  {
   "cell_type": "code",
   "execution_count": 8,
   "id": "909666c4",
   "metadata": {},
   "outputs": [],
   "source": [
    "SHOW_PREVIEW = False\n",
    "IMG_WIDTH = 640\n",
    "IMG_HEIGHT = 480\n",
    "SECONDS_PER_EPISODE = 10\n",
    "REPLAY_MEMORY_SIZE = 5_000   #5,000\n",
    "MIN_REPLAY_MEMORY_SIZE = 1_000\n",
    "MINIBATCH_SIZE = 16\n",
    "PREDICTION_BATCH_SIZE = 1\n",
    "TRAINING_BATCH_SIZE = MINIBATCH_SIZE // 4\n",
    "UPDATE_TARGET_EVERY = 5\n",
    "MODEL_NAME = \"Xception\"\n",
    "\n",
    "MEMORY_FRACTION = 0.8\n",
    "MIN_REWARD = -200\n",
    "\n",
    "EPISODES = 100\n",
    "\n",
    "DISCOUNT = 0.99\n",
    "epsilon = 1\n",
    "EPSILON_DECAY = 0.95 #0.9975 99975\n",
    "MIN_EPSILON = 0.001\n",
    "\n",
    "AGGREGATE_STATS_EVERY = 10"
   ]
  },
  {
   "cell_type": "code",
   "execution_count": 4,
   "id": "5fe7f22d",
   "metadata": {},
   "outputs": [],
   "source": [
    "class CarEnv:\n",
    "    SHOW_CAM = SHOW_PREVIEW\n",
    "    STEER_AMT = 1.0 \n",
    "    img_width = IMG_WIDTH\n",
    "    img_height = IMG_HEIGHT\n",
    "    front_camera = None\n",
    "    \n",
    "    def __int__(self):\n",
    "        try:\n",
    "            self.client = carla.Client(\"localhose\", 2000)\n",
    "            print(\"connect with server\")\n",
    "        except Exception as e:\n",
    "            print(e)\n",
    "        self.client.set_timeout(3.0)\n",
    "        self.world = self.client.get_world()\n",
    "        self.blueprint_library = self.world.get_blueprint_library()\n",
    "        self.model_3 = blueprint_library.filter(\"model3\")[0]\n",
    "        \n",
    "    def reset(self):\n",
    "        self.collision_hist = []\n",
    "        self.actor_list = []\n",
    "        \n",
    "        self.transform = random.choice(self.world.get_map().get_spawn_points())\n",
    "        self.vehicle = self.world.spawn_actor(self.model_3, self.transform)\n",
    "        self.actor_list.append(self.vehicle)\n",
    "        \n",
    "        self.rgb_cam = self.blueprint_library.find('sensor.camera.rgb')\n",
    "        self.rgb.set_attribute(\"image_size_x\", f\"{self.img_width}\")\n",
    "        self.rgb.set_attribute(\"image_size_y\", f\"{self.img_height}\")\n",
    "        self.rgb.set_attribute(\"fov\", f\"{110}\")\n",
    "        \n",
    "        transform = carla.Transform(carla.Location(x=2.5, z=0.7))\n",
    "        self.sensor = self.world.spawn_actor(self.rgb_cam, transform, attach_to = self.vehicle)\n",
    "        self.actor_list.append(self.sensor)\n",
    "        self.sensor.lissten(lambda data: self.process_img(data))\n",
    "        \n",
    "        self.vehicle.apply_control(carls.VehicleControl(throttle=0.0, brake=0.0))\n",
    "        time.sleep(4)\n",
    "        \n",
    "        colsensor = self.blueprint_library.find(\"sensor.other.collision\")\n",
    "        self.colsensor = self.world.spawn_actor(colsensor, transform, attach_to=self.vehicle)\n",
    "        self.actor_list.append(self.colcensor)\n",
    "        self.colcensor.listen(lambda event: self.collision_data(event))\n",
    "        \n",
    "        while self.front_camera is None:\n",
    "            time.sleep(0.01)\n",
    "        \n",
    "        self.episode_start = time.time()\n",
    "        \n",
    "        self.vehicle.apply_control(carla.VehicleControl(throttle=0.0, brake=0.0))\n",
    "        \n",
    "        return self.front_camera\n",
    "    \n",
    "    def collision_data(self, event):\n",
    "        self.collision_hist.append(event)\n",
    "        \n",
    "    def process_img(self, image):\n",
    "        i = np.array(image.raw_data)\n",
    "        i2 = i.reshape((self.img_height, self.img_width, 4))\n",
    "        i3 = i2[:, :, :3]\n",
    "        if self.SHOW_CAM:\n",
    "            cv2.imshow(\"\", i3)\n",
    "            cv2.waitKey(1)\n",
    "#         return i3/255.0 \n",
    "        self.front_camera = i3\n",
    "    \n",
    "    def step(self, action):\n",
    "        if action == 0:\n",
    "            self.vehicle.apple_control(carla.VehicleControl(throttle=1.0, steer = -1*self.STEER_AMT))\n",
    "        elif action == 1:\n",
    "            self.vehicle.apple_control(carla.VehicleControl(throttle=1.0, steer = 0))\n",
    "        elif action == 2:\n",
    "            self.vehicle.apple_control(carla.VehicleControl(throttle=1.0, steer = 1*self.STEER_AMT))\n",
    "        \n",
    "        v = self.vehicle.get_velocity()\n",
    "        kmh = int(3.6 * math.sqrt(v.x**2 + v.y**2 + v.z**2))\n",
    "        \n",
    "        if len(self.collision_hist) != 0:\n",
    "            done = True\n",
    "            reward = -200\n",
    "        elif kmh < 50:\n",
    "            done = False\n",
    "            reward = -1\n",
    "        else:\n",
    "            done = False\n",
    "            reward = 1\n",
    "        \n",
    "        if self.episode_start + SECONDS_PER_EPISODE < time.time():\n",
    "            done = True\n",
    "        \n",
    "        return self.front_camera, reward, done, None"
   ]
  },
  {
   "cell_type": "code",
   "execution_count": 22,
   "id": "597a3c20",
   "metadata": {},
   "outputs": [
    {
     "ename": "SyntaxError",
     "evalue": "positional argument follows keyword argument (2637358257.py, line 18)",
     "output_type": "error",
     "traceback": [
      "\u001b[1;36m  File \u001b[1;32m\"C:\\Users\\abhis\\AppData\\Local\\Temp\\ipykernel_5744\\2637358257.py\"\u001b[1;36m, line \u001b[1;32m18\u001b[0m\n\u001b[1;33m    base_model = Xception(weights=None, include_top=False, input_shape(IMG_HEIGHT, IMG_WIDTH, 3))\u001b[0m\n\u001b[1;37m                                                          ^\u001b[0m\n\u001b[1;31mSyntaxError\u001b[0m\u001b[1;31m:\u001b[0m positional argument follows keyword argument\n"
     ]
    }
   ],
   "source": [
    "class DQNAgent:\n",
    "    def __init__(self):\n",
    "        self.model = self.create_model()\n",
    "        self.target_model = self.create_model()\n",
    "        self.traget_model.set_weights(self.model.get_weights())\n",
    "        \n",
    "        self.replay_memory = deque(maxlen = REPLAY_MEMORY_SIZE)\n",
    "        \n",
    "        self.tensorboard = ModifiedTensorBoard(log_dir = f\"logs/{MODEL_NAME}-{int(time.time())}\")\n",
    "        self.target_update_counter = 0\n",
    "        self.graph = tf.get_default_graph()\n",
    "        \n",
    "        self.terminate = False\n",
    "        self.last_logged_episode = 0\n",
    "        self.training_initialized = False\n",
    "    \n",
    "    def create_model(self):\n",
    "        base_model = Xception(weights=None, include_top=False, input_shape(IMG_HEIGHT, IMG_WIDTH, 3))\n",
    "        \n",
    "        x = base_model.output\n",
    "        x = GlobalAveragePooling2D()(x)\n",
    "        \n",
    "        predictions = Dense(3, activation = \"linear\")(x)\n",
    "        model = Model(inputs = base_model.input, outputs = predictions)\n",
    "        model.compile(loss=\"mse\", optimizer=Adam(lr=0.001),metrics=[\"accuracy\"])\n",
    "        return model\n",
    "    \n",
    "    def update_replay_memory(self, transition):\n",
    "        self.replay_momory.append(transition)\n",
    "    \n",
    "    def train(self):\n",
    "        if len(self.replay_memory) < MIN_REPLAY_MEMORY_SIZE:\n",
    "            return\n",
    "        minbatch = random.sample(self.replay_memory, MINIBATCH_SIZE)\n",
    "        \n",
    "        current_states = np.array([transition[0] for transition in minibatch])/255\n",
    "        with self.graph.as_default():\n",
    "            current_qs_list = self.model.predict(current_states, PREDICTION_BATCH_SIZE)\n",
    "            \n",
    "        new_current_states = np.array([transition[3] for transition in minibatch])/255\n",
    "        with self.graph.as_default():\n",
    "            future_qs_list = self.target_model.predict(new_current_states, PREDICTION_BATCH_SIZE)\n",
    "        \n",
    "        X = []\n",
    "        y = []\n",
    "        \n",
    "        for index, (current_state, action, reward, new_state, done) in enumerate(minibatch):\n",
    "            if not done:\n",
    "                max_future_q = np.max(future_qs_list[index])\n",
    "                new_q = reward + DISCOUNT * max_future_q\n",
    "            else:\n",
    "                new_q = reward\n",
    "            \n",
    "        current_qs = current_qs_list[index]\n",
    "        current_qs[action] = new_q\n",
    "        \n",
    "        X.append(current_state)\n",
    "        y.append(current_qs)\n",
    "        \n",
    "    log_this_step = False\n",
    "    if self.tensorboard.step > self.last_logged_episode:\n",
    "        log_this_step = True\n",
    "        self.last_log_episode = self.tensorboard.step\n",
    "    \n",
    "    with self.graph.as_default():\n",
    "        self.model.fit(np,array(X)/255, np.array(y), batch_size= TRAINING_BATCH_SIZE, werbose=0, shuffle=False, callbacks=[self.tensorboard] if log_this_step else None)\n",
    "    \n",
    "    if log_this_step:\n",
    "        self.target_updat_counter += 1\n",
    "        \n",
    "    if self.target_update_counter > UPDATE_TARGET_EVERY:\n",
    "        self.target_model.set_weights(self.model.get_weights())\n",
    "        self.target_update_counter = 0\n",
    "        \n",
    "    def get_qs(self, state):\n",
    "        return shelf.model.predict(np.array(state).reshape(-1 * state.shape)/255)[0]\n",
    "    \n",
    "    def train_in_loop(self):\n",
    "        X = np.random.uniform(size=(1, IMG_HEIGHT, IMG_WIDTH, 3)).astype(np.float32)\n",
    "        y = np.random.uniform(size=(1, 3)).astype(np.float32)\n",
    "        with self.graph.as_default():\n",
    "            self.model.fit(X,y, verbose= False, batch_size=1)\n",
    "        \n",
    "        self.training_initialized = True\n",
    "        \n",
    "        while Ture:\n",
    "            if self.terminate:\n",
    "                return\n",
    "            self.train()\n",
    "            time.sleep(0.01)\n",
    "            "
   ]
  },
  {
   "cell_type": "code",
   "execution_count": null,
   "id": "fbf53afb",
   "metadata": {},
   "outputs": [],
   "source": []
  },
  {
   "cell_type": "code",
   "execution_count": null,
   "id": "863c5f47",
   "metadata": {},
   "outputs": [],
   "source": []
  },
  {
   "cell_type": "code",
   "execution_count": null,
   "id": "3ae993e4",
   "metadata": {},
   "outputs": [],
   "source": []
  },
  {
   "cell_type": "code",
   "execution_count": null,
   "id": "8012e5a3",
   "metadata": {},
   "outputs": [],
   "source": []
  },
  {
   "cell_type": "code",
   "execution_count": null,
   "id": "b8158116",
   "metadata": {},
   "outputs": [],
   "source": []
  },
  {
   "cell_type": "code",
   "execution_count": null,
   "id": "2e7be46a",
   "metadata": {},
   "outputs": [],
   "source": []
  },
  {
   "cell_type": "code",
   "execution_count": null,
   "id": "44f50f16",
   "metadata": {},
   "outputs": [],
   "source": []
  },
  {
   "cell_type": "code",
   "execution_count": null,
   "id": "337a89d3",
   "metadata": {},
   "outputs": [],
   "source": []
  },
  {
   "cell_type": "code",
   "execution_count": null,
   "id": "250b66ba",
   "metadata": {},
   "outputs": [],
   "source": []
  },
  {
   "cell_type": "code",
   "execution_count": null,
   "id": "7d494d0d",
   "metadata": {},
   "outputs": [],
   "source": []
  },
  {
   "cell_type": "code",
   "execution_count": null,
   "id": "89e87e95",
   "metadata": {},
   "outputs": [],
   "source": [
    "# try:\n",
    "#     client = carla.Client('localhost', 2000)\n",
    "#     client.set_timeout(5.0)\n",
    "#     world = client.get_world()\n",
    "#     print(\"connected with Server\")\n",
    "# except Exception as e:\n",
    "#     print(\"An exception occurred:\")\n",
    "#     print(e)"
   ]
  },
  {
   "cell_type": "code",
   "execution_count": null,
   "id": "05dee84a",
   "metadata": {},
   "outputs": [],
   "source": [
    "# blueprint_library = world.get_blueprint_library()\n",
    "# spawn_points = world.get_map().get_spawn_points()"
   ]
  },
  {
   "cell_type": "markdown",
   "id": "b63663b8",
   "metadata": {},
   "source": [
    "Lets create some vehicles for the city and make it as someone is driving it "
   ]
  },
  {
   "cell_type": "markdown",
   "id": "8574ec68",
   "metadata": {},
   "source": [
    "# NPC for City"
   ]
  },
  {
   "cell_type": "code",
   "execution_count": null,
   "id": "f35ff7aa",
   "metadata": {},
   "outputs": [],
   "source": [
    "# npc_list = []\n",
    "# actor_list = [] "
   ]
  },
  {
   "cell_type": "code",
   "execution_count": null,
   "id": "2ed6be46",
   "metadata": {},
   "outputs": [],
   "source": [
    "# for i in range(10):\n",
    "#     vehicle_bp = random.choice(blueprint_library.filter('vehicle'))\n",
    "#     try:\n",
    "#         npc = world.spawn_actor(vehicle_bp, random.choice(spawn_points))\n",
    "#         npc_list.append(npc)\n",
    "#     except:\n",
    "#         print(\"one vehicle not spawn!\")"
   ]
  },
  {
   "cell_type": "code",
   "execution_count": null,
   "id": "b94ba651",
   "metadata": {},
   "outputs": [],
   "source": [
    "# for v in world.get_actors().filter('*vehicle*'):\n",
    "#     v.set_autopilot(True)"
   ]
  },
  {
   "cell_type": "markdown",
   "id": "72425b60",
   "metadata": {},
   "source": [
    "# Lets start our model"
   ]
  },
  {
   "cell_type": "markdown",
   "id": "8f2e0f0c",
   "metadata": {},
   "source": [
    "Create a vehicle and locate its location"
   ]
  },
  {
   "cell_type": "code",
   "execution_count": null,
   "id": "1de38727",
   "metadata": {},
   "outputs": [],
   "source": [
    "# for a in range(50):\n",
    "#     try:\n",
    "#         vehicle = world.spawn_actor(\n",
    "#             blueprint_library.find(\n",
    "#                 random.choice([\n",
    "#                     'vehicle.dogde.charger_2020',\n",
    "#                     'vehicle.ford.mustang',\n",
    "#                     'vehicle.mercedes.coupe_2020',\n",
    "#                     'vehicle.tesla.model3'\n",
    "#                 ])\n",
    "#             ),\n",
    "#             random.choice(spawn_points)\n",
    "#         )\n",
    "#         actor_list.append(vehicle)\n",
    "#         print(\"selected\")\n",
    "#         break\n",
    "#     except:\n",
    "#         print(\"Next vehicle\")"
   ]
  },
  {
   "cell_type": "code",
   "execution_count": null,
   "id": "33507747",
   "metadata": {},
   "outputs": [],
   "source": [
    "# spectator = world.get_spectator()\n",
    "# transform = carla.Transform(vehicle.get_transform().transform(carla.Location(x=-4, z=2.5)), vehicle.get_transform().rotation)\n",
    "# spectator.set_transform(transform)"
   ]
  },
  {
   "cell_type": "code",
   "execution_count": null,
   "id": "5bc11025",
   "metadata": {},
   "outputs": [],
   "source": []
  },
  {
   "cell_type": "code",
   "execution_count": null,
   "id": "09d10d0c",
   "metadata": {},
   "outputs": [],
   "source": [
    "# for i in actor_list:\n",
    "#     print(i)"
   ]
  },
  {
   "cell_type": "code",
   "execution_count": null,
   "id": "a7ccb425",
   "metadata": {},
   "outputs": [],
   "source": [
    "# Run above"
   ]
  },
  {
   "cell_type": "code",
   "execution_count": null,
   "id": "b000ed4f",
   "metadata": {},
   "outputs": [],
   "source": [
    "# vehicle.set_autopilot(True)"
   ]
  },
  {
   "cell_type": "markdown",
   "id": "6e7d135f",
   "metadata": {},
   "source": [
    "## Control of sensors "
   ]
  },
  {
   "cell_type": "code",
   "execution_count": null,
   "id": "fc585224",
   "metadata": {},
   "outputs": [],
   "source": [
    "# IMG_WIDTH = 640\n",
    "# IMG_HEIGHT = 480"
   ]
  },
  {
   "cell_type": "code",
   "execution_count": null,
   "id": "34712ae4",
   "metadata": {},
   "outputs": [],
   "source": [
    "# camera_bp = blueprint_library.find('sensor.camera.rgb')\n",
    "# camera_bp.set_attribute('image_size_x', str(IMG_WIDTH))\n",
    "# camera_bp.set_attribute('image_size_y', str(IMG_HEIGHT))\n",
    "# camera_bp.set_attribute(\"fov\", \"110\")\n",
    "\n",
    "# camera_init_trans = carla.Transform(carla.Location(x = 2.5, z=2.0))\n",
    "# camera = world.spawn_actor(camera_bp, camera_init_trans, attach_to = vehicle)\n",
    "# actor_list.append(camera)"
   ]
  },
  {
   "cell_type": "code",
   "execution_count": null,
   "id": "51f63e4f",
   "metadata": {},
   "outputs": [],
   "source": [
    "# def process_img(image):\n",
    "#     i = np.array(image.raw_data)\n",
    "#     i2 = i.reshape((IMG_HEIGHT, IMG_WIDTH, 4))\n",
    "#     i3 = i2[:, :, :3]\n",
    "#     cv2.imshow(\"\", i3)\n",
    "#     cv2.waitKey(1)\n",
    "#     return i3/255.0\n",
    "\n",
    "\n",
    "# try:\n",
    "#     camera.listen(lambda data: process_img(data))\n",
    "#     time.sleep(10)\n",
    "#     camera.destroy()\n",
    "# except Exception as e:\n",
    "#     print(e)"
   ]
  },
  {
   "cell_type": "code",
   "execution_count": null,
   "id": "60ce82df",
   "metadata": {
    "scrolled": true
   },
   "outputs": [],
   "source": [
    "# try:\n",
    "#     for actor in actor_list:\n",
    "#         actor.destroy()\n",
    "#     print(\"All actors cleaned\")\n",
    "# except Exception as e:\n",
    "#     print(e)"
   ]
  },
  {
   "cell_type": "code",
   "execution_count": null,
   "id": "23440b29",
   "metadata": {},
   "outputs": [],
   "source": [
    "# try:\n",
    "#     for npc in npc_list:\n",
    "#         npc.destroy()\n",
    "#     print(\"All NPC cleaned\")\n",
    "# except Exception as e: \n",
    "#     print(e)"
   ]
  }
 ],
 "metadata": {
  "kernelspec": {
   "display_name": "Python 3 (ipykernel)",
   "language": "python",
   "name": "python3"
  },
  "language_info": {
   "codemirror_mode": {
    "name": "ipython",
    "version": 3
   },
   "file_extension": ".py",
   "mimetype": "text/x-python",
   "name": "python",
   "nbconvert_exporter": "python",
   "pygments_lexer": "ipython3",
   "version": "3.7.0"
  }
 },
 "nbformat": 4,
 "nbformat_minor": 5
}
