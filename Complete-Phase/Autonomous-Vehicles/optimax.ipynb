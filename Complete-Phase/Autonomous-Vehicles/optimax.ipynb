{
 "cells": [
  {
   "cell_type": "markdown",
   "id": "50db95c0",
   "metadata": {},
   "source": [
    "# Domain: Transportation"
   ]
  },
  {
   "cell_type": "markdown",
   "id": "3973d7c5",
   "metadata": {},
   "source": [
    "## Topic: Autonomous vehicles"
   ]
  },
  {
   "cell_type": "markdown",
   "id": "d7ab8700",
   "metadata": {},
   "source": [
    "### Team: Optimax"
   ]
  },
  {
   "cell_type": "markdown",
   "id": "179214b1",
   "metadata": {},
   "source": [
    "We are testing algorithms for Autonomous vehicles. <br>\n",
    "Using carla simulator to testing in virtural enviroment.<br>\n",
    "The CARLA simulator consists of a scalable client-server architecture."
   ]
  },
  {
   "cell_type": "code",
   "execution_count": 1,
   "id": "f622e66b",
   "metadata": {},
   "outputs": [
    {
     "name": "stdout",
     "output_type": "stream",
     "text": [
      "Hello world\n"
     ]
    }
   ],
   "source": [
    "print(\"Hello world\")"
   ]
  },
  {
   "cell_type": "markdown",
   "id": "84a359fc",
   "metadata": {},
   "source": [
    "First need to install carla "
   ]
  },
  {
   "cell_type": "code",
   "execution_count": 2,
   "id": "ba6da3e2",
   "metadata": {},
   "outputs": [
    {
     "name": "stdout",
     "output_type": "stream",
     "text": [
      "Requirement already satisfied: carla in c:\\users\\abhis\\appdata\\local\\programs\\python\\python37\\lib\\site-packages (0.9.14)\n"
     ]
    }
   ],
   "source": [
    "!pip install carla"
   ]
  },
  {
   "cell_type": "code",
   "execution_count": 3,
   "id": "a3e3dea4",
   "metadata": {},
   "outputs": [],
   "source": [
    "import carla\n",
    "import math\n",
    "import random\n",
    "import time"
   ]
  },
  {
   "cell_type": "markdown",
   "id": "c1793b0d",
   "metadata": {},
   "source": [
    "Lets create a client and connect to carla local server"
   ]
  },
  {
   "cell_type": "code",
   "execution_count": 4,
   "id": "89e87e95",
   "metadata": {},
   "outputs": [],
   "source": [
    "client = carla.Client('localhost', 2000)\n",
    "world = client.get_world()"
   ]
  },
  {
   "cell_type": "code",
   "execution_count": 5,
   "id": "05dee84a",
   "metadata": {},
   "outputs": [],
   "source": [
    "bp_lib = world.get_blueprint_library()\n",
    "spawn_points = world.get_map().get_spawn_points()"
   ]
  },
  {
   "cell_type": "markdown",
   "id": "8574ec68",
   "metadata": {},
   "source": [
    "# NPC for City"
   ]
  },
  {
   "cell_type": "markdown",
   "id": "b63663b8",
   "metadata": {},
   "source": [
    "Lets create some vehicles for the city and make it as someone is driving it "
   ]
  },
  {
   "cell_type": "code",
   "execution_count": 6,
   "id": "2ed6be46",
   "metadata": {},
   "outputs": [],
   "source": [
    "for i in range(30):\n",
    "    vehicle_bp = random.choice(bp_lib.filter('vehicle'))\n",
    "    npc = world.try_spawn_actor(vehicle_bp, random.choice(spawn_points))"
   ]
  },
  {
   "cell_type": "code",
   "execution_count": 7,
   "id": "b94ba651",
   "metadata": {},
   "outputs": [],
   "source": [
    "for v in world.get_actors().filter('*vehicle*'):\n",
    "    v.set_autopilot(True)"
   ]
  },
  {
   "cell_type": "markdown",
   "id": "72425b60",
   "metadata": {},
   "source": [
    "# Lets start our model"
   ]
  },
  {
   "cell_type": "markdown",
   "id": "8f2e0f0c",
   "metadata": {},
   "source": [
    "Create a vehicle and locate its location"
   ]
  },
  {
   "cell_type": "code",
   "execution_count": 8,
   "id": "1de38727",
   "metadata": {},
   "outputs": [],
   "source": [
    "vehicle_bp = bp_lib.find('vehicle.lincoln.mkz_2020')\n",
    "vehicle = world.try_spawn_actor(vehicle_bp, random.choice(spawn_points))"
   ]
  },
  {
   "cell_type": "code",
   "execution_count": 9,
   "id": "33507747",
   "metadata": {},
   "outputs": [],
   "source": [
    "spectator = world.get_spectator()\n",
    "transform = carla.Transform(vehicle.get_transform().transform(carla.Location(x=-4, z=2.5)), vehicle.get_transform().rotation)\n",
    "spectator.set_transform(transform)"
   ]
  },
  {
   "cell_type": "code",
   "execution_count": 10,
   "id": "5bc11025",
   "metadata": {},
   "outputs": [
    {
     "name": "stdout",
     "output_type": "stream",
     "text": [
      "Transform(Location(x=-7.966957, y=66.283257, z=-0.005011), Rotation(pitch=0.000000, yaw=-179.926727, roll=0.000000))\n"
     ]
    }
   ],
   "source": [
    "print(vehicle.get_transform())"
   ]
  },
  {
   "cell_type": "code",
   "execution_count": null,
   "id": "34712ae4",
   "metadata": {},
   "outputs": [],
   "source": []
  },
  {
   "cell_type": "code",
   "execution_count": null,
   "id": "f935e64c",
   "metadata": {},
   "outputs": [],
   "source": []
  }
 ],
 "metadata": {
  "kernelspec": {
   "display_name": "Python 3 (ipykernel)",
   "language": "python",
   "name": "python3"
  },
  "language_info": {
   "codemirror_mode": {
    "name": "ipython",
    "version": 3
   },
   "file_extension": ".py",
   "mimetype": "text/x-python",
   "name": "python",
   "nbconvert_exporter": "python",
   "pygments_lexer": "ipython3",
   "version": "3.7.0"
  }
 },
 "nbformat": 4,
 "nbformat_minor": 5
}
