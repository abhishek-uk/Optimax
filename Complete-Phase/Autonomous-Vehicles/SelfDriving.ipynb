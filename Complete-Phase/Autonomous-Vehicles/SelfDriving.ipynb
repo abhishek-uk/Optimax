{
 "cells": [
  {
   "cell_type": "markdown",
   "id": "50db95c0",
   "metadata": {},
   "source": [
    "# Domain: Transportation"
   ]
  },
  {
   "cell_type": "markdown",
   "id": "3973d7c5",
   "metadata": {},
   "source": [
    "## Topic: Autonomous vehicles"
   ]
  },
  {
   "cell_type": "markdown",
   "id": "d7ab8700",
   "metadata": {},
   "source": [
    "### Team: Optimax"
   ]
  },
  {
   "cell_type": "markdown",
   "id": "179214b1",
   "metadata": {},
   "source": [
    "We are testing algorithms for Autonomous vehicles. <br>\n",
    "Using carla simulator to testing in virtural enviroment.<br>\n",
    "The CARLA simulator consists of a scalable client-server architecture."
   ]
  },
  {
   "cell_type": "code",
   "execution_count": 1,
   "id": "f622e66b",
   "metadata": {},
   "outputs": [
    {
     "name": "stdout",
     "output_type": "stream",
     "text": [
      "Hello world\n"
     ]
    }
   ],
   "source": [
    "print(\"Hello world\")"
   ]
  },
  {
   "cell_type": "markdown",
   "id": "84a359fc",
   "metadata": {},
   "source": [
    "First need to install carla "
   ]
  },
  {
   "cell_type": "code",
   "execution_count": 2,
   "id": "ba6da3e2",
   "metadata": {},
   "outputs": [],
   "source": [
    "# !pip install carla"
   ]
  },
  {
   "cell_type": "code",
   "execution_count": 3,
   "id": "83ed7a7d",
   "metadata": {},
   "outputs": [],
   "source": [
    "# !pip install tensorflow-gpu"
   ]
  },
  {
   "cell_type": "code",
   "execution_count": 4,
   "id": "200781a5",
   "metadata": {},
   "outputs": [
    {
     "name": "stdout",
     "output_type": "stream",
     "text": [
      "2.9.1\n"
     ]
    }
   ],
   "source": [
    "import tensorflow as tf\n",
    "print(tf.__version__)"
   ]
  },
  {
   "cell_type": "code",
   "execution_count": 5,
   "id": "a3e3dea4",
   "metadata": {},
   "outputs": [],
   "source": [
    "import carla\n",
    "import math\n",
    "import random\n",
    "import time\n",
    "import numpy as np\n",
    "import cv2\n",
    "import os\n",
    "from collections import deque\n",
    "from keras.applications.xception import Xception\n",
    "from keras.layers import Dense, GlobalAveragePooling2D\n",
    "from keras.optimizers import Adam\n",
    "from keras.models import Model\n",
    "\n",
    "import tensorflow as tf\n",
    "from threading import Thread\n",
    "from keras.callbacks import TensorBoard\n",
    "from tqdm import tqdm\n",
    "\n",
    "# import keras.backend.tensorflow_backend as backend\n",
    "import tensorflow.keras.backend as backend\n",
    "# import keras.backend as backend"
   ]
  },
  {
   "cell_type": "code",
   "execution_count": 6,
   "id": "cde5f6fc",
   "metadata": {},
   "outputs": [],
   "source": [
    "from tensorflow import summary\n",
    "import glob\n",
    "import sys"
   ]
  },
  {
   "cell_type": "code",
   "execution_count": null,
   "id": "83baa99e",
   "metadata": {},
   "outputs": [],
   "source": []
  },
  {
   "cell_type": "markdown",
   "id": "c1793b0d",
   "metadata": {},
   "source": [
    "Lets create a client and connect to carla local server"
   ]
  },
  {
   "cell_type": "code",
   "execution_count": 7,
   "id": "909666c4",
   "metadata": {},
   "outputs": [],
   "source": [
    "SHOW_PREVIEW = False\n",
    "IMG_WIDTH = 640\n",
    "IMG_HEIGHT = 480\n",
    "SECONDS_PER_EPISODE = 10\n",
    "REPLAY_MEMORY_SIZE = 5_000   #5,000\n",
    "MIN_REPLAY_MEMORY_SIZE = 1_000\n",
    "MINIBATCH_SIZE = 16\n",
    "PREDICTION_BATCH_SIZE = 1\n",
    "TRAINING_BATCH_SIZE = MINIBATCH_SIZE // 4\n",
    "UPDATE_TARGET_EVERY = 5\n",
    "MODEL_NAME = \"Xception\"\n",
    "\n",
    "MEMORY_FRACTION = 0.6\n",
    "MIN_REWARD = -200\n",
    "\n",
    "EPISODES = 20\n",
    "\n",
    "DISCOUNT = 0.99\n",
    "epsilon = 1\n",
    "EPSILON_DECAY = 0.95 #0.9975 99975\n",
    "MIN_EPSILON = 0.001\n",
    "\n",
    "AGGREGATE_STATS_EVERY = 10"
   ]
  },
  {
   "cell_type": "code",
   "execution_count": null,
   "id": "6ab3ad9b",
   "metadata": {},
   "outputs": [],
   "source": []
  },
  {
   "cell_type": "code",
   "execution_count": null,
   "id": "55a698a5",
   "metadata": {},
   "outputs": [],
   "source": []
  },
  {
   "cell_type": "code",
   "execution_count": 8,
   "id": "5fe7f22d",
   "metadata": {},
   "outputs": [],
   "source": [
    "class CarEnv:\n",
    "    SHOW_CAM = SHOW_PREVIEW\n",
    "    STEER_AMT = 1.0 \n",
    "    img_width = IMG_WIDTH\n",
    "    img_height = IMG_HEIGHT\n",
    "    front_camera = None\n",
    "    \n",
    "    def __init__(self):\n",
    "        try:\n",
    "            self.client = carla.Client(\"localhost\", 2000)\n",
    "            print(\"connect with server\")\n",
    "        except Exception as e:\n",
    "            print(e)\n",
    "            print(\"not connect with server\")\n",
    "        self.client.set_timeout(3.0)\n",
    "        self.world = self.client.get_world()\n",
    "        self.blueprint_library = self.world.get_blueprint_library()\n",
    "        self.model_3 = self.blueprint_library.filter(\"model3\")[0]\n",
    "        \n",
    "    def reset(self):\n",
    "        self.collision_hist = []\n",
    "        self.actor_list = []\n",
    "        \n",
    "        self.transform = random.choice(self.world.get_map().get_spawn_points())\n",
    "        self.vehicle = self.world.spawn_actor(self.model_3, self.transform)\n",
    "        print(\"vehicle created successfully dd\")\n",
    "        self.actor_list.append(self.vehicle)\n",
    "        \n",
    "        self.rgb_cam = self.blueprint_library.find('sensor.camera.rgb')\n",
    "        self.rgb_cam.set_attribute(\"image_size_x\", f\"{self.img_width}\")\n",
    "        self.rgb_cam.set_attribute(\"image_size_y\", f\"{self.img_height}\")\n",
    "        self.rgb_cam.set_attribute(\"fov\", f\"{110}\")\n",
    "        \n",
    "        transform = carla.Transform(carla.Location(x=2.5, z=0.7))\n",
    "        self.sensor = self.world.spawn_actor(self.rgb_cam, transform, attach_to=self.vehicle)\n",
    "        self.actor_list.append(self.sensor)\n",
    "        self.sensor.listen(lambda data: self.process_img(data))\n",
    "        \n",
    "        self.vehicle.apply_control(carla.VehicleControl(throttle=0.0, brake=0.0))\n",
    "        time.sleep(4)\n",
    "        \n",
    "        colsensor = self.blueprint_library.find(\"sensor.other.collision\")\n",
    "        self.colsensor = self.world.spawn_actor(colsensor, transform, attach_to=self.vehicle)\n",
    "        self.actor_list.append(self.colsensor)\n",
    "        self.colsensor.listen(lambda event: self.collision_data(event))\n",
    "        \n",
    "        while self.front_camera is None:\n",
    "            time.sleep(0.01)\n",
    "        \n",
    "        self.episode_start = time.time()\n",
    "        \n",
    "        self.vehicle.apply_control(carla.VehicleControl(throttle=0.0, brake=0.0))\n",
    "        \n",
    "        return self.front_camera\n",
    "    \n",
    "    def collision_data(self, event):\n",
    "        self.collision_hist.append(event)\n",
    "        \n",
    "    def process_img(self, image):\n",
    "        i = np.array(image.raw_data)\n",
    "        i2 = i.reshape((self.img_height, self.img_width, 4))\n",
    "        i3 = i2[:, :, :3]\n",
    "        if self.SHOW_CAM:\n",
    "            cv2.imshow(\"\", i3)\n",
    "            cv2.waitKey(1)\n",
    "#         return i3/255.0 \n",
    "        self.front_camera = i3\n",
    "    \n",
    "    def step(self, action):\n",
    "        if action == 0:\n",
    "            self.vehicle.apply_control(carla.VehicleControl(throttle=1.0, steer = -1*self.STEER_AMT))\n",
    "        elif action == 1:\n",
    "            self.vehicle.apply_control(carla.VehicleControl(throttle=1.0, steer = 0))\n",
    "        elif action == 2:\n",
    "            self.vehicle.apply_control(carla.VehicleControl(throttle=1.0, steer = 1*self.STEER_AMT))\n",
    "        \n",
    "        v = self.vehicle.get_velocity()\n",
    "        kmh = int(3.6 * math.sqrt(v.x**2 + v.y**2 + v.z**2))\n",
    "        \n",
    "        if len(self.collision_hist) != 0:\n",
    "            done = True\n",
    "            reward = -200\n",
    "        elif kmh < 50:\n",
    "            done = False\n",
    "            reward = -1\n",
    "        else:\n",
    "            done = False\n",
    "            reward = 1\n",
    "        \n",
    "        if self.episode_start + SECONDS_PER_EPISODE < time.time():\n",
    "            done = True\n",
    "        \n",
    "        return self.front_camera, reward, done, None"
   ]
  },
  {
   "cell_type": "markdown",
   "id": "e8737a8a",
   "metadata": {},
   "source": [
    "above almost fixed code (syntax)"
   ]
  },
  {
   "cell_type": "markdown",
   "id": "3f8c3c66",
   "metadata": {},
   "source": [
    " "
   ]
  },
  {
   "cell_type": "code",
   "execution_count": null,
   "id": "92e5263e",
   "metadata": {},
   "outputs": [],
   "source": []
  },
  {
   "cell_type": "code",
   "execution_count": null,
   "id": "d7fa30cd",
   "metadata": {},
   "outputs": [],
   "source": []
  },
  {
   "cell_type": "code",
   "execution_count": null,
   "id": "23af73a4",
   "metadata": {},
   "outputs": [],
   "source": []
  },
  {
   "cell_type": "code",
   "execution_count": 9,
   "id": "597a3c20",
   "metadata": {},
   "outputs": [],
   "source": [
    "class DQNAgent:\n",
    "    def __init__(self):\n",
    "        self.model = self.create_model()\n",
    "        self.target_model = self.create_model()\n",
    "        self.target_model.set_weights(self.model.get_weights())\n",
    "        \n",
    "        self.replay_memory = deque(maxlen=REPLAY_MEMORY_SIZE)\n",
    "        \n",
    "        self.tensorboard = ModifiedTensorBoard(log_dir=f\"logs/{MODEL_NAME}-{int(time.time())}\")\n",
    "        self.target_update_counter = 0\n",
    "#         self.graph = tf.get_default_graph()\n",
    "        \n",
    "        self.terminate = False\n",
    "        self.last_logged_episode = 0\n",
    "        self.training_initialized = False\n",
    "    \n",
    "    def create_model(self):\n",
    "        base_model = Xception(weights=None, include_top=False, input_shape=(IMG_HEIGHT, IMG_WIDTH, 3))\n",
    "        \n",
    "        x = base_model.output\n",
    "        x = GlobalAveragePooling2D()(x)\n",
    "        \n",
    "        predictions = Dense(3, activation=\"linear\")(x)\n",
    "        model = Model(inputs=base_model.input, outputs=predictions)\n",
    "        model.compile(loss=\"mse\", optimizer=Adam(learning_rate=0.001),metrics=[\"accuracy\"])\n",
    "        return model\n",
    "    \n",
    "    def update_replay_memory(self, transition):\n",
    "        self.replay_memory.append(transition)\n",
    "    \n",
    "    def train(self):\n",
    "        if len(self.replay_memory) < MIN_REPLAY_MEMORY_SIZE:\n",
    "            return\n",
    "        minibatch = random.sample(self.replay_memory, MINIBATCH_SIZE)\n",
    "        \n",
    "        current_states = np.array([transition[0] for transition in minibatch])/255\n",
    "#         with self.graph.as_default():\n",
    "        current_qs_list = self.model.predict(current_states, PREDICTION_BATCH_SIZE)\n",
    "            \n",
    "        new_current_states = np.array([transition[3] for transition in minibatch])/255\n",
    "#         with self.graph.as_default():\n",
    "        future_qs_list = self.target_model.predict(new_current_states, PREDICTION_BATCH_SIZE)\n",
    "        \n",
    "        X = []\n",
    "        y = []\n",
    "        \n",
    "        for index, (current_state, action, reward, new_state, done) in enumerate(minibatch):\n",
    "            if not done:\n",
    "                max_future_q = np.max(future_qs_list[index])\n",
    "                new_q = reward + DISCOUNT * max_future_q\n",
    "            else:\n",
    "                new_q = reward\n",
    "            \n",
    "            current_qs = current_qs_list[index]\n",
    "            current_qs[action] = new_q\n",
    "\n",
    "            X.append(current_state)\n",
    "            y.append(current_qs)\n",
    "\n",
    "        log_this_step = False\n",
    "        if self.tensorboard.step > self.last_logged_episode:\n",
    "            log_this_step = True\n",
    "            self.last_log_episode = self.tensorboard.step\n",
    "\n",
    "#         with self.graph.as_default():\n",
    "            self.model.fit(np.array(X)/255, np.array(y), batch_size= TRAINING_BATCH_SIZE, verbose=0, shuffle=False, callbacks=[self.tensorboard] if log_this_step else None)\n",
    "\n",
    "        if log_this_step:\n",
    "            self.target_update_counter += 1\n",
    "\n",
    "        if self.target_update_counter > UPDATE_TARGET_EVERY:\n",
    "            self.target_model.set_weights(self.model.get_weights())\n",
    "            self.target_update_counter = 0\n",
    "        \n",
    "    def get_qs(self, state):\n",
    "        return self.model.predict(np.array(state).reshape(-1, * state.shape)/255)[0]\n",
    "    \n",
    "    def train_in_loop(self):\n",
    "        X = np.random.uniform(size=(1, IMG_HEIGHT, IMG_WIDTH, 3)).astype(np.float32)\n",
    "        y = np.random.uniform(size=(1, 3)).astype(np.float32)\n",
    "#         with self.graph.as_default():\n",
    "        self.model.fit(X,y, verbose= False, batch_size=1)\n",
    "        \n",
    "        self.training_initialized = True\n",
    "        \n",
    "        while True:\n",
    "            if self.terminate:\n",
    "                return\n",
    "            self.train()\n",
    "            time.sleep(0.01)\n",
    "            "
   ]
  },
  {
   "cell_type": "markdown",
   "id": "8a48cd43",
   "metadata": {},
   "source": [
    "above almost syntax fix"
   ]
  },
  {
   "cell_type": "code",
   "execution_count": null,
   "id": "a1ebc612",
   "metadata": {},
   "outputs": [],
   "source": []
  },
  {
   "cell_type": "code",
   "execution_count": null,
   "id": "f83ad10b",
   "metadata": {},
   "outputs": [],
   "source": []
  },
  {
   "cell_type": "code",
   "execution_count": 10,
   "id": "c1306f66",
   "metadata": {},
   "outputs": [],
   "source": [
    "class ModifiedTensorBoard(TensorBoard):\n",
    "\n",
    "    # Overriding init to set initial step and writer (we want one log file for all .fit() calls)\n",
    "    def __init__(self, **kwargs):\n",
    "        super().__init__(**kwargs)\n",
    "        self.step = 1\n",
    "        self.writer = tf.summary.create_file_writer(self.log_dir)\n",
    "\n",
    "    # Overriding this method to stop creating default log writer\n",
    "    def set_model(self, model):\n",
    "        pass\n",
    "\n",
    "    # Overrided, saves logs with our step number\n",
    "    # (otherwise every .fit() will start writing from 0th step)\n",
    "    def on_epoch_end(self, epoch, logs=None):\n",
    "        self.update_stats(**logs)\n",
    "\n",
    "    # Overrided\n",
    "    # We train for one batch only, no need to save anything at epoch end\n",
    "    def on_batch_end(self, batch, logs=None):\n",
    "        pass\n",
    "\n",
    "    # Overrided, so won't close writer\n",
    "    def on_train_end(self, _):\n",
    "        pass\n",
    "\n",
    "    # Custom method for saving own metrics\n",
    "    # Creates writer, writes custom metrics and closes writer\n",
    "    def update_stats(self, **stats):\n",
    "        self._write_logs(stats, self.step)\n",
    "        \n",
    "    def _write_logs(self, logs, index):\n",
    "        with self.writer.as_default():\n",
    "            for name, value in logs.items():\n",
    "                tf.summary.scalar(name, value, step=index)\n",
    "            self.writer.flush()"
   ]
  },
  {
   "cell_type": "code",
   "execution_count": null,
   "id": "cedf64b4",
   "metadata": {},
   "outputs": [],
   "source": []
  },
  {
   "cell_type": "code",
   "execution_count": null,
   "id": "0702871e",
   "metadata": {},
   "outputs": [],
   "source": []
  },
  {
   "cell_type": "code",
   "execution_count": null,
   "id": "34a95578",
   "metadata": {},
   "outputs": [],
   "source": []
  },
  {
   "cell_type": "code",
   "execution_count": null,
   "id": "75c2ff00",
   "metadata": {},
   "outputs": [],
   "source": []
  },
  {
   "cell_type": "code",
   "execution_count": null,
   "id": "22d6ccc8",
   "metadata": {},
   "outputs": [],
   "source": []
  },
  {
   "cell_type": "code",
   "execution_count": 34,
   "id": "fbf53afb",
   "metadata": {
    "scrolled": true
   },
   "outputs": [
    {
     "name": "stdout",
     "output_type": "stream",
     "text": [
      "connect with server\n"
     ]
    },
    {
     "ename": "RuntimeError",
     "evalue": "time-out of 3000ms while waiting for the simulator, make sure the simulator is ready and connected to localhost:2000",
     "output_type": "error",
     "traceback": [
      "\u001b[1;31m---------------------------------------------------------------------------\u001b[0m",
      "\u001b[1;31mRuntimeError\u001b[0m                              Traceback (most recent call last)",
      "\u001b[1;32m~\\AppData\\Local\\Temp\\ipykernel_2152\\3011195959.py\u001b[0m in \u001b[0;36m<module>\u001b[1;34m\u001b[0m\n\u001b[0;32m     24\u001b[0m \u001b[1;33m\u001b[0m\u001b[0m\n\u001b[0;32m     25\u001b[0m     \u001b[0magent\u001b[0m \u001b[1;33m=\u001b[0m \u001b[0mDQNAgent\u001b[0m\u001b[1;33m(\u001b[0m\u001b[1;33m)\u001b[0m\u001b[1;33m\u001b[0m\u001b[0m\n\u001b[1;32m---> 26\u001b[1;33m     \u001b[0menv\u001b[0m \u001b[1;33m=\u001b[0m \u001b[0mCarEnv\u001b[0m\u001b[1;33m(\u001b[0m\u001b[1;33m)\u001b[0m\u001b[1;33m\u001b[0m\u001b[0m\n\u001b[0m\u001b[0;32m     27\u001b[0m \u001b[1;33m\u001b[0m\u001b[0m\n\u001b[0;32m     28\u001b[0m     \u001b[0mtrainer_thread\u001b[0m \u001b[1;33m=\u001b[0m \u001b[0mThread\u001b[0m\u001b[1;33m(\u001b[0m\u001b[0mtarget\u001b[0m\u001b[1;33m=\u001b[0m\u001b[0magent\u001b[0m\u001b[1;33m.\u001b[0m\u001b[0mtrain_in_loop\u001b[0m\u001b[1;33m,\u001b[0m \u001b[0mdaemon\u001b[0m\u001b[1;33m=\u001b[0m \u001b[1;32mTrue\u001b[0m\u001b[1;33m)\u001b[0m\u001b[1;33m\u001b[0m\u001b[0m\n",
      "\u001b[1;32m~\\AppData\\Local\\Temp\\ipykernel_2152\\3345575511.py\u001b[0m in \u001b[0;36m__init__\u001b[1;34m(self)\u001b[0m\n\u001b[0;32m     14\u001b[0m             \u001b[0mprint\u001b[0m\u001b[1;33m(\u001b[0m\u001b[1;34m\"not connect with server\"\u001b[0m\u001b[1;33m)\u001b[0m\u001b[1;33m\u001b[0m\u001b[0m\n\u001b[0;32m     15\u001b[0m         \u001b[0mself\u001b[0m\u001b[1;33m.\u001b[0m\u001b[0mclient\u001b[0m\u001b[1;33m.\u001b[0m\u001b[0mset_timeout\u001b[0m\u001b[1;33m(\u001b[0m\u001b[1;36m3.0\u001b[0m\u001b[1;33m)\u001b[0m\u001b[1;33m\u001b[0m\u001b[0m\n\u001b[1;32m---> 16\u001b[1;33m         \u001b[0mself\u001b[0m\u001b[1;33m.\u001b[0m\u001b[0mworld\u001b[0m \u001b[1;33m=\u001b[0m \u001b[0mself\u001b[0m\u001b[1;33m.\u001b[0m\u001b[0mclient\u001b[0m\u001b[1;33m.\u001b[0m\u001b[0mget_world\u001b[0m\u001b[1;33m(\u001b[0m\u001b[1;33m)\u001b[0m\u001b[1;33m\u001b[0m\u001b[0m\n\u001b[0m\u001b[0;32m     17\u001b[0m         \u001b[0mself\u001b[0m\u001b[1;33m.\u001b[0m\u001b[0mblueprint_library\u001b[0m \u001b[1;33m=\u001b[0m \u001b[0mself\u001b[0m\u001b[1;33m.\u001b[0m\u001b[0mworld\u001b[0m\u001b[1;33m.\u001b[0m\u001b[0mget_blueprint_library\u001b[0m\u001b[1;33m(\u001b[0m\u001b[1;33m)\u001b[0m\u001b[1;33m\u001b[0m\u001b[0m\n\u001b[0;32m     18\u001b[0m         \u001b[0mself\u001b[0m\u001b[1;33m.\u001b[0m\u001b[0mmodel_3\u001b[0m \u001b[1;33m=\u001b[0m \u001b[0mself\u001b[0m\u001b[1;33m.\u001b[0m\u001b[0mblueprint_library\u001b[0m\u001b[1;33m.\u001b[0m\u001b[0mfilter\u001b[0m\u001b[1;33m(\u001b[0m\u001b[1;34m\"model3\"\u001b[0m\u001b[1;33m)\u001b[0m\u001b[1;33m[\u001b[0m\u001b[1;36m0\u001b[0m\u001b[1;33m]\u001b[0m\u001b[1;33m\u001b[0m\u001b[0m\n",
      "\u001b[1;31mRuntimeError\u001b[0m: time-out of 3000ms while waiting for the simulator, make sure the simulator is ready and connected to localhost:2000"
     ]
    }
   ],
   "source": [
    "if __name__ == '__main__':\n",
    "    FPS = 20\n",
    "    ep_rewards = [-200]\n",
    "    \n",
    "    random.seed(1)\n",
    "    np.random.seed(1)\n",
    "#     tf.set_random_seed(1)\n",
    "    tf.random.set_seed(1)\n",
    "    \n",
    "#     gpu_options = tf.GPUOptions(per_process_gpu_memory_fraction=MEMORY_FRACTION)\n",
    "#     backend.set_session(tf.Session(config=tf.ConfigProto(gpu_options=gpu_options)))\n",
    "    \n",
    "#     gpu_options = tf.GPUOptions(per_process_gpu_memory_fraction=MEMORY_FRACTION)\n",
    "#     backend.set_session(tf.Session(config=tf.ConfigProto(gpu_options=gpu_options)))\n",
    "\n",
    "\n",
    "    gpu_options = tf.compat.v1.GPUOptions(per_process_gpu_memory_fraction=MEMORY_FRACTION)\n",
    "    config = tf.compat.v1.ConfigProto(gpu_options=gpu_options)\n",
    "    tf.compat.v1.keras.backend.set_session(tf.compat.v1.Session(config=config))\n",
    "\n",
    "\n",
    "    if not os.path.isdir('models'):\n",
    "        os.makedirs('models')\n",
    "    \n",
    "    agent = DQNAgent()\n",
    "    env = CarEnv()\n",
    "    \n",
    "    trainer_thread = Thread(target=agent.train_in_loop, daemon= True)\n",
    "    trainer_thread.start()\n",
    "    \n",
    "    while not agent.training_initialized:\n",
    "        time.sleep(0.01)\n",
    "    \n",
    "    agent.get_qs(np.ones((env.img_height, env.img_width, 3)))\n",
    "    \n",
    "    for episode in tqdm(range(1, EPISODES+1), ascii=True, unit=\"episodes\"):\n",
    "        env.collision_hist = []\n",
    "        agent.tensorboard.step = episode\n",
    "        episode_reward = 0\n",
    "        step = 1\n",
    "        current_state = env.reset()\n",
    "        done = False\n",
    "        episode_start = time.time()\n",
    "        \n",
    "        while True:\n",
    "            if np.random.random() > epsilon:\n",
    "                action = np.argmax(agent.get_qs(current_state))\n",
    "\n",
    "            else:\n",
    "                action = np.random.randint(0, 3)\n",
    "                time.sleep(1/FPS)\n",
    "            \n",
    "            new_state, reward, done, _ = env.step(action)\n",
    "            \n",
    "            episode_reward += reward\n",
    "            \n",
    "            agent.update_replay_memory((current_state, action, reward, new_state, done))\n",
    "            \n",
    "            step +=1\n",
    "            \n",
    "            if done:\n",
    "                break\n",
    "            \n",
    "#         for actor in env.actor_list:\n",
    "#             actor.destroy()\n",
    "            \n",
    "           # Append episode reward to a list and log stats (every given number of episodes)\n",
    "            ep_rewards.append(episode_reward)\n",
    "            if not episode % AGGREGATE_STATS_EVERY or episode == 1:\n",
    "                average_reward = sum(ep_rewards[-AGGREGATE_STATS_EVERY:])/len(ep_rewards[-AGGREGATE_STATS_EVERY:])\n",
    "                min_reward = min(ep_rewards[-AGGREGATE_STATS_EVERY:])\n",
    "                max_reward = max(ep_rewards[-AGGREGATE_STATS_EVERY:])\n",
    "                agent.tensorboard.update_stats(reward_avg=average_reward, reward_min=min_reward, reward_max=max_reward, epsilon=epsilon)\n",
    "\n",
    "                # Save model, but only when min reward is greater or equal a set value\n",
    "                if min_reward >= MIN_REWARD:\n",
    "                    agent.model.save(f'models/{MODEL_NAME}__{max_reward:_>7.2f}max_{average_reward:_>7.2f}avg_{min_reward:_>7.2f}min__{int(time.time())}.model')\n",
    "                    \n",
    "             # Decay epsilon\n",
    "            if epsilon > MIN_EPSILON:\n",
    "                epsilon *= EPSILON_DECAY\n",
    "                epsilon = max(MIN_EPSILON, epsilon)\n",
    "                \n",
    "      # Set termination flag for training thread and wait for it to finish\n",
    "        agent.terminate = True\n",
    "        trainer_thread.join()\n",
    "        agent.model.save(f'models/{MODEL_NAME}__{max_reward:_>7.2f}max_{average_reward:_>7.2f}avg_{min_reward:_>7.2f}min__{int(time.time())}.model')"
   ]
  },
  {
   "cell_type": "code",
   "execution_count": null,
   "id": "58cdb14d",
   "metadata": {},
   "outputs": [],
   "source": []
  },
  {
   "cell_type": "code",
   "execution_count": 12,
   "id": "937319a1",
   "metadata": {},
   "outputs": [],
   "source": [
    "# import tensorboard.summary._tf.summary\n",
    "\n",
    "# print(dir(tensorboard.summary._tf.summary))"
   ]
  },
  {
   "cell_type": "code",
   "execution_count": null,
   "id": "656989ca",
   "metadata": {},
   "outputs": [],
   "source": []
  },
  {
   "cell_type": "code",
   "execution_count": null,
   "id": "5ebb801d",
   "metadata": {},
   "outputs": [],
   "source": []
  },
  {
   "cell_type": "code",
   "execution_count": null,
   "id": "d26a0b44",
   "metadata": {},
   "outputs": [],
   "source": []
  },
  {
   "cell_type": "code",
   "execution_count": null,
   "id": "bfdb94a5",
   "metadata": {},
   "outputs": [],
   "source": []
  },
  {
   "cell_type": "code",
   "execution_count": null,
   "id": "2fdf3138",
   "metadata": {},
   "outputs": [],
   "source": []
  },
  {
   "cell_type": "code",
   "execution_count": null,
   "id": "5bb17782",
   "metadata": {},
   "outputs": [],
   "source": []
  },
  {
   "cell_type": "code",
   "execution_count": null,
   "id": "dc8f58d1",
   "metadata": {},
   "outputs": [],
   "source": []
  },
  {
   "cell_type": "code",
   "execution_count": null,
   "id": "98a7451c",
   "metadata": {},
   "outputs": [],
   "source": []
  },
  {
   "cell_type": "code",
   "execution_count": null,
   "id": "f750b9d1",
   "metadata": {},
   "outputs": [],
   "source": []
  },
  {
   "cell_type": "code",
   "execution_count": null,
   "id": "12b0b6a2",
   "metadata": {},
   "outputs": [],
   "source": []
  },
  {
   "cell_type": "code",
   "execution_count": null,
   "id": "13503b2e",
   "metadata": {},
   "outputs": [],
   "source": []
  },
  {
   "cell_type": "code",
   "execution_count": null,
   "id": "4dda36d9",
   "metadata": {},
   "outputs": [],
   "source": []
  },
  {
   "cell_type": "code",
   "execution_count": null,
   "id": "7fb099cc",
   "metadata": {},
   "outputs": [],
   "source": []
  },
  {
   "cell_type": "code",
   "execution_count": null,
   "id": "d387836f",
   "metadata": {},
   "outputs": [],
   "source": []
  },
  {
   "cell_type": "code",
   "execution_count": null,
   "id": "eeedfd6a",
   "metadata": {},
   "outputs": [],
   "source": []
  },
  {
   "cell_type": "code",
   "execution_count": null,
   "id": "310c1c33",
   "metadata": {},
   "outputs": [],
   "source": []
  },
  {
   "cell_type": "code",
   "execution_count": null,
   "id": "86e40eb8",
   "metadata": {},
   "outputs": [],
   "source": []
  },
  {
   "cell_type": "code",
   "execution_count": null,
   "id": "f08d5759",
   "metadata": {},
   "outputs": [],
   "source": []
  },
  {
   "cell_type": "code",
   "execution_count": null,
   "id": "644e0649",
   "metadata": {},
   "outputs": [],
   "source": []
  },
  {
   "cell_type": "code",
   "execution_count": null,
   "id": "06beae0f",
   "metadata": {},
   "outputs": [],
   "source": []
  },
  {
   "cell_type": "code",
   "execution_count": null,
   "id": "e882521c",
   "metadata": {},
   "outputs": [],
   "source": []
  },
  {
   "cell_type": "code",
   "execution_count": null,
   "id": "94c2c126",
   "metadata": {},
   "outputs": [],
   "source": []
  },
  {
   "cell_type": "code",
   "execution_count": null,
   "id": "c23d9dc2",
   "metadata": {},
   "outputs": [],
   "source": []
  },
  {
   "cell_type": "code",
   "execution_count": null,
   "id": "dc571dc4",
   "metadata": {},
   "outputs": [],
   "source": []
  },
  {
   "cell_type": "code",
   "execution_count": null,
   "id": "d373e7f3",
   "metadata": {},
   "outputs": [],
   "source": []
  },
  {
   "cell_type": "code",
   "execution_count": null,
   "id": "06dec3c2",
   "metadata": {},
   "outputs": [],
   "source": []
  },
  {
   "cell_type": "code",
   "execution_count": null,
   "id": "b541ac18",
   "metadata": {},
   "outputs": [],
   "source": []
  },
  {
   "cell_type": "code",
   "execution_count": null,
   "id": "57f63383",
   "metadata": {},
   "outputs": [],
   "source": []
  },
  {
   "cell_type": "code",
   "execution_count": null,
   "id": "9c580c1f",
   "metadata": {},
   "outputs": [],
   "source": []
  },
  {
   "cell_type": "code",
   "execution_count": null,
   "id": "7006512e",
   "metadata": {},
   "outputs": [],
   "source": []
  },
  {
   "cell_type": "code",
   "execution_count": null,
   "id": "8cde2053",
   "metadata": {},
   "outputs": [],
   "source": []
  },
  {
   "cell_type": "code",
   "execution_count": null,
   "id": "412beb52",
   "metadata": {},
   "outputs": [],
   "source": []
  },
  {
   "cell_type": "code",
   "execution_count": null,
   "id": "52d8add8",
   "metadata": {},
   "outputs": [],
   "source": []
  },
  {
   "cell_type": "code",
   "execution_count": null,
   "id": "cd2bb85d",
   "metadata": {},
   "outputs": [],
   "source": []
  },
  {
   "cell_type": "code",
   "execution_count": null,
   "id": "2869c27b",
   "metadata": {},
   "outputs": [],
   "source": []
  },
  {
   "cell_type": "code",
   "execution_count": null,
   "id": "8c939bec",
   "metadata": {},
   "outputs": [],
   "source": []
  },
  {
   "cell_type": "code",
   "execution_count": null,
   "id": "a54bed9f",
   "metadata": {},
   "outputs": [],
   "source": []
  },
  {
   "cell_type": "code",
   "execution_count": null,
   "id": "56322714",
   "metadata": {},
   "outputs": [],
   "source": []
  },
  {
   "cell_type": "code",
   "execution_count": 13,
   "id": "3ae993e4",
   "metadata": {},
   "outputs": [],
   "source": [
    "# print(dir(tf))"
   ]
  },
  {
   "cell_type": "code",
   "execution_count": null,
   "id": "8012e5a3",
   "metadata": {},
   "outputs": [],
   "source": []
  },
  {
   "cell_type": "code",
   "execution_count": null,
   "id": "b8158116",
   "metadata": {},
   "outputs": [],
   "source": []
  },
  {
   "cell_type": "code",
   "execution_count": null,
   "id": "2e7be46a",
   "metadata": {},
   "outputs": [],
   "source": []
  },
  {
   "cell_type": "code",
   "execution_count": null,
   "id": "44f50f16",
   "metadata": {},
   "outputs": [],
   "source": []
  },
  {
   "cell_type": "code",
   "execution_count": 14,
   "id": "337a89d3",
   "metadata": {},
   "outputs": [],
   "source": [
    "# print(dir(Xception))"
   ]
  },
  {
   "cell_type": "code",
   "execution_count": null,
   "id": "e5f4ca89",
   "metadata": {},
   "outputs": [],
   "source": []
  },
  {
   "cell_type": "code",
   "execution_count": null,
   "id": "80fa1457",
   "metadata": {},
   "outputs": [],
   "source": []
  },
  {
   "cell_type": "code",
   "execution_count": null,
   "id": "d766f3b1",
   "metadata": {},
   "outputs": [],
   "source": []
  },
  {
   "cell_type": "code",
   "execution_count": null,
   "id": "250b66ba",
   "metadata": {},
   "outputs": [],
   "source": []
  },
  {
   "cell_type": "code",
   "execution_count": null,
   "id": "7d494d0d",
   "metadata": {},
   "outputs": [],
   "source": []
  },
  {
   "cell_type": "code",
   "execution_count": 15,
   "id": "89e87e95",
   "metadata": {},
   "outputs": [],
   "source": [
    "# try:\n",
    "#     client = carla.Client('localhost', 2000)\n",
    "#     client.set_timeout(5.0)\n",
    "#     world = client.get_world()\n",
    "#     print(\"connected with Server\")\n",
    "# except Exception as e:\n",
    "#     print(\"An exception occurred:\")\n",
    "#     print(e)"
   ]
  },
  {
   "cell_type": "code",
   "execution_count": 16,
   "id": "05dee84a",
   "metadata": {},
   "outputs": [],
   "source": [
    "# blueprint_library = world.get_blueprint_library()\n",
    "# spawn_points = world.get_map().get_spawn_points()"
   ]
  },
  {
   "cell_type": "markdown",
   "id": "b63663b8",
   "metadata": {},
   "source": [
    "Lets create some vehicles for the city and make it as someone is driving it "
   ]
  },
  {
   "cell_type": "markdown",
   "id": "8574ec68",
   "metadata": {},
   "source": [
    "# NPC for City"
   ]
  },
  {
   "cell_type": "code",
   "execution_count": 17,
   "id": "f35ff7aa",
   "metadata": {},
   "outputs": [],
   "source": [
    "# npc_list = []\n",
    "# actor_list = [] "
   ]
  },
  {
   "cell_type": "code",
   "execution_count": 18,
   "id": "2ed6be46",
   "metadata": {},
   "outputs": [],
   "source": [
    "# for i in range(10):\n",
    "#     vehicle_bp = random.choice(blueprint_library.filter('vehicle'))\n",
    "#     try:\n",
    "#         npc = world.spawn_actor(vehicle_bp, random.choice(spawn_points))\n",
    "#         npc_list.append(npc)\n",
    "#     except:\n",
    "#         print(\"one vehicle not spawn!\")"
   ]
  },
  {
   "cell_type": "code",
   "execution_count": 19,
   "id": "b94ba651",
   "metadata": {},
   "outputs": [],
   "source": [
    "# for v in world.get_actors().filter('*vehicle*'):\n",
    "#     v.set_autopilot(True)"
   ]
  },
  {
   "cell_type": "markdown",
   "id": "72425b60",
   "metadata": {},
   "source": [
    "# Lets start our model"
   ]
  },
  {
   "cell_type": "markdown",
   "id": "8f2e0f0c",
   "metadata": {},
   "source": [
    "Create a vehicle and locate its location"
   ]
  },
  {
   "cell_type": "code",
   "execution_count": 20,
   "id": "1de38727",
   "metadata": {},
   "outputs": [],
   "source": [
    "# for a in range(50):\n",
    "#     try:\n",
    "#         vehicle = world.spawn_actor(\n",
    "#             blueprint_library.find(\n",
    "#                 random.choice([\n",
    "#                     'vehicle.dogde.charger_2020',\n",
    "#                     'vehicle.ford.mustang',\n",
    "#                     'vehicle.mercedes.coupe_2020',\n",
    "#                     'vehicle.tesla.model3'\n",
    "#                 ])\n",
    "#             ),\n",
    "#             random.choice(spawn_points)\n",
    "#         )\n",
    "#         actor_list.append(vehicle)\n",
    "#         print(\"selected\")\n",
    "#         break\n",
    "#     except:\n",
    "#         print(\"Next vehicle\")"
   ]
  },
  {
   "cell_type": "code",
   "execution_count": 21,
   "id": "33507747",
   "metadata": {},
   "outputs": [],
   "source": [
    "# spectator = world.get_spectator()\n",
    "# transform = carla.Transform(vehicle.get_transform().transform(carla.Location(x=-4, z=2.5)), vehicle.get_transform().rotation)\n",
    "# spectator.set_transform(transform)"
   ]
  },
  {
   "cell_type": "code",
   "execution_count": null,
   "id": "5bc11025",
   "metadata": {},
   "outputs": [],
   "source": []
  },
  {
   "cell_type": "code",
   "execution_count": 33,
   "id": "09d10d0c",
   "metadata": {},
   "outputs": [
    {
     "name": "stdout",
     "output_type": "stream",
     "text": [
      "connect with server\n"
     ]
    },
    {
     "ename": "AttributeError",
     "evalue": "'CarEnv' object has no attribute 'actor_list'",
     "output_type": "error",
     "traceback": [
      "\u001b[1;31m---------------------------------------------------------------------------\u001b[0m",
      "\u001b[1;31mAttributeError\u001b[0m                            Traceback (most recent call last)",
      "\u001b[1;32m~\\AppData\\Local\\Temp\\ipykernel_2152\\2096041148.py\u001b[0m in \u001b[0;36m<module>\u001b[1;34m\u001b[0m\n\u001b[0;32m      1\u001b[0m \u001b[0menv\u001b[0m \u001b[1;33m=\u001b[0m \u001b[0mCarEnv\u001b[0m\u001b[1;33m(\u001b[0m\u001b[1;33m)\u001b[0m\u001b[1;33m\u001b[0m\u001b[0m\n\u001b[1;32m----> 2\u001b[1;33m \u001b[1;32mfor\u001b[0m \u001b[0mactor\u001b[0m \u001b[1;32min\u001b[0m \u001b[0menv\u001b[0m\u001b[1;33m.\u001b[0m\u001b[0mactor_list\u001b[0m\u001b[1;33m:\u001b[0m\u001b[1;33m\u001b[0m\u001b[0m\n\u001b[0m\u001b[0;32m      3\u001b[0m     \u001b[0mprint\u001b[0m\u001b[1;33m(\u001b[0m\u001b[0mactor\u001b[0m\u001b[1;33m)\u001b[0m\u001b[1;33m\u001b[0m\u001b[0m\n",
      "\u001b[1;31mAttributeError\u001b[0m: 'CarEnv' object has no attribute 'actor_list'"
     ]
    }
   ],
   "source": [
    "env = CarEnv()\n",
    "for actor in env.actor_list:\n",
    "    print(actor)"
   ]
  },
  {
   "cell_type": "code",
   "execution_count": 23,
   "id": "a7ccb425",
   "metadata": {},
   "outputs": [],
   "source": [
    "# Run above"
   ]
  },
  {
   "cell_type": "code",
   "execution_count": 24,
   "id": "b000ed4f",
   "metadata": {},
   "outputs": [],
   "source": [
    "# vehicle.set_autopilot(True)"
   ]
  },
  {
   "cell_type": "markdown",
   "id": "6e7d135f",
   "metadata": {},
   "source": [
    "## Control of sensors "
   ]
  },
  {
   "cell_type": "code",
   "execution_count": 25,
   "id": "fc585224",
   "metadata": {},
   "outputs": [],
   "source": [
    "# IMG_WIDTH = 640\n",
    "# IMG_HEIGHT = 480"
   ]
  },
  {
   "cell_type": "code",
   "execution_count": 26,
   "id": "34712ae4",
   "metadata": {},
   "outputs": [],
   "source": [
    "# camera_bp = blueprint_library.find('sensor.camera.rgb')\n",
    "# camera_bp.set_attribute('image_size_x', str(IMG_WIDTH))\n",
    "# camera_bp.set_attribute('image_size_y', str(IMG_HEIGHT))\n",
    "# camera_bp.set_attribute(\"fov\", \"110\")\n",
    "\n",
    "# camera_init_trans = carla.Transform(carla.Location(x = 2.5, z=2.0))\n",
    "# camera = world.spawn_actor(camera_bp, camera_init_trans, attach_to = vehicle)\n",
    "# actor_list.append(camera)"
   ]
  },
  {
   "cell_type": "code",
   "execution_count": 27,
   "id": "51f63e4f",
   "metadata": {},
   "outputs": [],
   "source": [
    "# def process_img(image):\n",
    "#     i = np.array(image.raw_data)\n",
    "#     i2 = i.reshape((IMG_HEIGHT, IMG_WIDTH, 4))\n",
    "#     i3 = i2[:, :, :3]\n",
    "#     cv2.imshow(\"\", i3)\n",
    "#     cv2.waitKey(1)\n",
    "#     return i3/255.0\n",
    "\n",
    "\n",
    "# try:\n",
    "#     camera.listen(lambda data: process_img(data))\n",
    "#     time.sleep(10)\n",
    "#     camera.destroy()\n",
    "# except Exception as e:\n",
    "#     print(e)"
   ]
  },
  {
   "cell_type": "code",
   "execution_count": 28,
   "id": "60ce82df",
   "metadata": {
    "scrolled": true
   },
   "outputs": [],
   "source": [
    "# try:\n",
    "#     for actor in actor_list:\n",
    "#         actor.destroy()\n",
    "#     print(\"All actors cleaned\")\n",
    "# except Exception as e:\n",
    "#     print(e)"
   ]
  },
  {
   "cell_type": "code",
   "execution_count": 29,
   "id": "23440b29",
   "metadata": {},
   "outputs": [],
   "source": [
    "# try:\n",
    "#     for npc in npc_list:\n",
    "#         npc.destroy()\n",
    "#     print(\"All NPC cleaned\")\n",
    "# except Exception as e: \n",
    "#     print(e)"
   ]
  }
 ],
 "metadata": {
  "kernelspec": {
   "display_name": "Python 3 (ipykernel)",
   "language": "python",
   "name": "python3"
  },
  "language_info": {
   "codemirror_mode": {
    "name": "ipython",
    "version": 3
   },
   "file_extension": ".py",
   "mimetype": "text/x-python",
   "name": "python",
   "nbconvert_exporter": "python",
   "pygments_lexer": "ipython3",
   "version": "3.7.0"
  }
 },
 "nbformat": 4,
 "nbformat_minor": 5
}
